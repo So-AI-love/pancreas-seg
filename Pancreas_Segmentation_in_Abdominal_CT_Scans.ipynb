{
  "nbformat": 4,
  "nbformat_minor": 0,
  "metadata": {
    "colab": {
      "name": "Pancreas Segmentation in Abdominal CT Scans",
      "provenance": [],
      "collapsed_sections": [],
      "toc_visible": true,
      "authorship_tag": "ABX9TyMdL14om7Re1DJvBD1pN4ti",
      "include_colab_link": true
    },
    "kernelspec": {
      "name": "python3",
      "display_name": "Python 3"
    }
  },
  "cells": [
    {
      "cell_type": "markdown",
      "metadata": {
        "id": "view-in-github",
        "colab_type": "text"
      },
      "source": [
        "<a href=\"https://colab.research.google.com/github/So-AI-love/pancreas-seg/blob/master/Pancreas_Segmentation_in_Abdominal_CT_Scans.ipynb\" target=\"_parent\"><img src=\"https://colab.research.google.com/assets/colab-badge.svg\" alt=\"Open In Colab\"/></a>"
      ]
    },
    {
      "cell_type": "markdown",
      "metadata": {
        "id": "7QiDoW-22BdF"
      },
      "source": [
        "\n",
        "\n",
        "```\n",
        "# This is formatted as code\n",
        "```\n",
        "\n",
        "## Pancreas Segmentation in Abdominal CT Scans\n",
        "\n",
        "**Introduction**\n",
        "\n",
        "This is the code via Googlw colab version of [this][1] GitHub project:\n",
        "\n",
        "![enter image description here][2]\n",
        "\n",
        "```\n",
        "# This is formatted as code\n",
        "```\n",
        "\n",
        "\n",
        "\n",
        "\n",
        "  [1]: https://github.com/snapfinger/pancreas-seg#introduction\n",
        "  [2]: https://i.stack.imgur.com/LFLJ9.png"
      ]
    },
    {
      "cell_type": "code",
      "metadata": {
        "id": "pWUkTXrH0TVH"
      },
      "source": [
        "%cd /content"
      ],
      "execution_count": null,
      "outputs": []
    },
    {
      "cell_type": "markdown",
      "metadata": {
        "id": "bwhpYoR14fty"
      },
      "source": [
        "#Downloading the NBIA Data Retriever \n",
        "\n",
        "\n",
        "https://wiki.cancerimagingarchive.net/display/NBIA/Downloading+TCIA+Images\n",
        "\n",
        "![enter image description here][1]\n",
        "\n",
        "\n",
        "  [1]: https://i.stack.imgur.com/9YbOf.png\n"
      ]
    },
    {
      "cell_type": "code",
      "metadata": {
        "id": "F3O-NfEj4ti_",
        "outputId": "921242fa-057d-4531-ce5e-d7428f166252",
        "colab": {
          "base_uri": "https://localhost:8080/",
          "height": 574
        }
      },
      "source": [
        "!wget https://cbiit-download.nci.nih.gov/nbia/releases/ForTCIA/NBIADataRetriever_3.6/nbia-data-retriever-3.6.deb\n",
        "!sudo -S dpkg -r \"nbia-data-retriever-3.5.deb\"\n",
        "!sudo -S dpkg -i \"nbia-data-retriever-3.6.deb\"\n"
      ],
      "execution_count": null,
      "outputs": [
        {
          "output_type": "stream",
          "text": [
            "--2020-10-04 07:46:04--  https://cbiit-download.nci.nih.gov/nbia/releases/ForTCIA/NBIADataRetriever_3.6/nbia-data-retriever-3.6.deb\n",
            "Resolving cbiit-download.nci.nih.gov (cbiit-download.nci.nih.gov)... 129.43.254.25, 2607:f220:41d:21c1::812b:fe19\n",
            "Connecting to cbiit-download.nci.nih.gov (cbiit-download.nci.nih.gov)|129.43.254.25|:443... connected.\n",
            "HTTP request sent, awaiting response... 200 OK\n",
            "Length: 86824872 (83M) [application/x-debian-package]\n",
            "Saving to: ‘nbia-data-retriever-3.6.deb’\n",
            "\n",
            "nbia-data-retriever 100%[===================>]  82.80M  3.40MB/s    in 24s     \n",
            "\n",
            "2020-10-04 07:46:28 (3.43 MB/s) - ‘nbia-data-retriever-3.6.deb’ saved [86824872/86824872]\n",
            "\n",
            "\u001b[1mdpkg:\u001b[0m \u001b[1;31merror:\u001b[0m you must specify packages by their own names, not by quoting the names of the files they come in\n",
            "\n",
            "Type dpkg --help for help about installing and deinstalling packages [*];\n",
            "Use 'apt' or 'aptitude' for user-friendly package management;\n",
            "Type dpkg -Dhelp for a list of dpkg debug flag values;\n",
            "Type dpkg --force-help for a list of forcing options;\n",
            "Type dpkg-deb --help for help about manipulating *.deb files;\n",
            "\n",
            "Options marked [*] produce a lot of output - pipe it through 'less' or 'more' !\n",
            "Selecting previously unselected package nbia-data-retriever.\n",
            "(Reading database ... 144618 files and directories currently installed.)\n",
            "Preparing to unpack nbia-data-retriever-3.6.deb ...\n",
            "Unpacking nbia-data-retriever (3.6) ...\n",
            "Setting up nbia-data-retriever (3.6) ...\n",
            "Adding shortcut to the menu\n",
            "xdg-desktop-menu: No writable system menu directory found.\n",
            "\u001b[1mdpkg:\u001b[0m error processing package nbia-data-retriever (--install):\n",
            " installed nbia-data-retriever package post-installation script subprocess returned error exit status 3\n",
            "Errors were encountered while processing:\n",
            " nbia-data-retriever\n"
          ],
          "name": "stdout"
        }
      ]
    },
    {
      "cell_type": "markdown",
      "metadata": {
        "id": "xTc5NoHolbwa"
      },
      "source": [
        "use this Video instruction to downlaod hiuge file size in A Colab VPS :\n",
        "\n",
        "[HOW TO GET VPS FREE 12GB RAM LATEST 2020 UBUNTU](https://www.youtube.com/watch?v=OA5f4si3te0)\n",
        "\n",
        "![enter image description here][1]\n",
        "\n",
        "\n",
        "  [1]: https://i.stack.imgur.com/nQgZc.png\n"
      ]
    },
    {
      "cell_type": "markdown",
      "metadata": {
        "id": "IG7AEFNnaS2n"
      },
      "source": [
        "#Install ngrok\n",
        "\n",
        "B ased of this colab notebook:\n",
        "\n",
        "https://colab.research.google.com/github/shawwn/colab-tricks/blob/master/ngrok-tricks.ipynb#scrollTo=RyDVTHD2PnRI\n"
      ]
    },
    {
      "cell_type": "code",
      "metadata": {
        "id": "RdQZeHnJaLML"
      },
      "source": [
        "\n",
        "# %cd /content/\n",
        "# !mkdir -p /drive/ngrok-ssh\n",
        "# %cd /drive/ngrok-ssh\n",
        "# !wget https://bin.equinox.io/c/4VmDzA7iaHb/ngrok-stable-linux-amd64.zip -O ngrok-stable-linux-amd64.zip\n",
        "# !unzip -u ngrok-stable-linux-amd64.zip\n",
        "# !cp /drive/ngrok-ssh/ngrok /ngrok\n",
        "# !chmod +x /ngrok"
      ],
      "execution_count": null,
      "outputs": []
    },
    {
      "cell_type": "markdown",
      "metadata": {
        "id": "6vWSauDqaVmp"
      },
      "source": [
        "# Sign-in with ngrok\n",
        "\n",
        "- Sign up for a free ngrok account: https://ngrok.com\n",
        "\n",
        "- Copy your authtoken from https://dashboard.ngrok.com/auth and paste it into the following cell\n",
        "\n",
        "- Run the cell"
      ]
    },
    {
      "cell_type": "code",
      "metadata": {
        "id": "tJCWLvbRaXIq",
        "outputId": "2d4106e4-6285-4152-a8de-d15e09c48ff1",
        "colab": {
          "base_uri": "https://localhost:8080/",
          "height": 34
        }
      },
      "source": [
        "# !/ngrok authtoken PASTE_YOUR_AUTHTOKEN_HERE"
      ],
      "execution_count": null,
      "outputs": [
        {
          "output_type": "stream",
          "text": [
            "Authtoken saved to configuration file: /root/.ngrok2/ngrok.yml\n"
          ],
          "name": "stdout"
        }
      ]
    },
    {
      "cell_type": "markdown",
      "metadata": {
        "id": "gS3A67uoaeyL"
      },
      "source": [
        "# Create various ngrok tunnel configurations\n",
        "\n",
        "Run each of these cells, one by one:"
      ]
    },
    {
      "cell_type": "code",
      "metadata": {
        "id": "aSLf4SYeaeLy"
      },
      "source": [
        "# %%writefile /drive/ngrok-ssh/ssh.yml\n",
        "# tunnels:\n",
        "#   ssh:\n",
        "#     proto: tcp\n",
        "#     addr: 22"
      ],
      "execution_count": null,
      "outputs": []
    },
    {
      "cell_type": "code",
      "metadata": {
        "id": "Eg16SBIkasDM"
      },
      "source": [
        "# %%writefile /drive/ngrok-ssh/tensorboard.yml\n",
        "# tunnels:\n",
        "#   tensorboard:\n",
        "#     proto: http\n",
        "#     addr: 6006\n",
        "#     inspect: false\n",
        "#     bind_tls: true"
      ],
      "execution_count": null,
      "outputs": []
    },
    {
      "cell_type": "code",
      "metadata": {
        "id": "G70lTlpTatUE"
      },
      "source": [
        "# %%writefile /drive/ngrok-ssh/http8080.yml\n",
        "# tunnels:\n",
        "#   http8080:\n",
        "#     proto: http\n",
        "#     addr: 8080\n",
        "#     inspect: false\n",
        "#     bind_tls: true"
      ],
      "execution_count": null,
      "outputs": []
    },
    {
      "cell_type": "code",
      "metadata": {
        "id": "i6U_WNJ9avPC"
      },
      "source": [
        "# %%writefile /drive/ngrok-ssh/tcp8080.yml\n",
        "# tunnels:\n",
        "#   tcp8080:\n",
        "#     proto: tcp\n",
        "#     addr: 8080"
      ],
      "execution_count": null,
      "outputs": []
    },
    {
      "cell_type": "code",
      "metadata": {
        "id": "Eu1R8_29ayRK"
      },
      "source": [
        "# import os\n",
        "# if 'COLAB_TPU_ADDR' in os.environ:\n",
        "#   with open('/drive/ngrok-ssh/tpu.yml', 'w') as f:\n",
        "#     f.write(\"\"\"\n",
        "# tunnels:\n",
        "#   tpu:\n",
        "#     proto: tcp\n",
        "#     addr: {}\n",
        "# \"\"\".format(os.environ['COLAB_TPU_ADDR']).strip())\n",
        "#   print('Wrote /drive/ngrok-ssh/tpu.yml')"
      ],
      "execution_count": null,
      "outputs": []
    },
    {
      "cell_type": "code",
      "metadata": {
        "id": "9RiAhn0Gaz0T"
      },
      "source": [
        "# %%writefile /drive/ngrok-ssh/run_ngrok.sh\n",
        "# #!/bin/sh\n",
        "# set -x\n",
        "# /ngrok start --config ~/.ngrok2/ngrok.yml --config /drive/ngrok-ssh/ssh.yml --log=stdout --config /drive/ngrok-ssh/tensorboard.yml --config /drive/ngrok-ssh/http8080.yml --config /drive/ngrok-ssh/tcp8080.yml --config /drive/ngrok-ssh/tpu.yml \"$@\""
      ],
      "execution_count": null,
      "outputs": []
    },
    {
      "cell_type": "markdown",
      "metadata": {
        "id": "G90qyoSDa2YQ"
      },
      "source": [
        "#Start ngrok"
      ]
    },
    {
      "cell_type": "code",
      "metadata": {
        "id": "VT8EnV4Ha4Yl"
      },
      "source": [
        "# import os\n",
        "# if 'COLAB_TPU_ADDR' in os.environ:\n",
        "#   get_ipython().system_raw('bash /drive/ngrok-ssh/run_ngrok.sh ssh tensorboard tcp8080 tpu &')\n",
        "# else:\n",
        "#   get_ipython().system_raw('bash /drive/ngrok-ssh/run_ngrok.sh ssh tensorboard tcp8080 &')"
      ],
      "execution_count": null,
      "outputs": []
    },
    {
      "cell_type": "markdown",
      "metadata": {
        "id": "0FDWs_MNpX4m"
      },
      "source": [
        "#free vps colab from this video :\n",
        "https://www.youtube.com/watch?v=bzdVlqu9Gok"
      ]
    },
    {
      "cell_type": "code",
      "metadata": {
        "id": "WK6MK2dspXBC"
      },
      "source": [
        "!pip install git+https://github.com/demotomohiro/remocolab.git\n",
        "import remocolab\n",
        "remocolab.setupVNC()"
      ],
      "execution_count": null,
      "outputs": []
    },
    {
      "cell_type": "markdown",
      "metadata": {
        "id": "2p9C8kq4pdoS"
      },
      "source": [
        "#import this part of result to cmd terminal in Windows or terminal in linux:\n",
        "`ssh -o UserKnownHostsFile=/dev/null -o VisualHostKey=yes -p 19888 -L 5901:localhost:5901 colab@0.tcp.in.ngrok.io\n",
        "`\n",
        "\n",
        "#the install TrurboVNC for linux form here:\n",
        "\n",
        "https://gist.github.com/cyberang3l/422a77a47bdc15a0824d5cca47e64ba2\n",
        "\n",
        "And add this comand to conect :\n",
        "\n",
        "`localhost:5901 `\n",
        "\n",
        "And add the this kind of pass as requested pass in Turbo VNC:\n",
        "```\n",
        "VNC password: ?????\n",
        "```\n",
        "you must have somthing like this:\n",
        "\n",
        "\n",
        "![enter image description here][1]\n",
        "\n",
        "\n",
        "  [1]: https://i.stack.imgur.com/29wSu.png"
      ]
    },
    {
      "cell_type": "code",
      "metadata": {
        "id": "DprRLBm5qfaP"
      },
      "source": [
        ""
      ],
      "execution_count": null,
      "outputs": []
    },
    {
      "cell_type": "markdown",
      "metadata": {
        "id": "7sq90O3b_9n3"
      },
      "source": [
        "# Download Pancras-CT Scan Dataset from:\n",
        "\n",
        "https://wiki.cancerimagingarchive.net/display/Public/Pancreas-CT\n",
        "\n",
        "You can use the VPS for installing  the NBIA Data Retriever as you can see here:\n",
        "![enter image description here][1]\n",
        "\n",
        "\n",
        "  [1]: https://i.stack.imgur.com/Y3GMo.png\n",
        "\n",
        "  and then installing it like this( the colab password could be seen from perviuse lof files:\n",
        "![enter image description here][2]\n",
        "\n",
        "\n",
        "  [2]: https://i.stack.imgur.com/yGlRY.png\n",
        "\n",
        "Then downlaod the file \"*.tcia\" from here:\n",
        "\n",
        "https://wiki.cancerimagingarchive.net/display/Public/Pancreas-CT\n",
        "\n",
        "and open it by NBIA App the result must be similar to this:\n",
        "\n",
        "\n",
        "![enter image description here][3]\n",
        "\n",
        "\n",
        "  [3]: https://i.stack.imgur.com/l76ah.png\n",
        "\n",
        "\n"
      ]
    },
    {
      "cell_type": "markdown",
      "metadata": {
        "id": "S5Yf468MV2JA"
      },
      "source": [
        "\n",
        "#install this packae via VPS:\n",
        "From [this](https://github.com/demotomohiro/remocolab/wiki/Frequently-Asked-Questions) post can we add any app in the VPS:\n",
        "![enter image description here][1]\n",
        "\n",
        "\n",
        "  [1]: https://i.stack.imgur.com/EJrLn.png\n",
        "\n",
        "```\n",
        "#https://askubuntu.com/questions/981118/correct-way-to-install-python-2-7-on-ubuntu-17-10\n",
        "\n",
        "# refreshing the repositories\n",
        "sudo apt update\n",
        "# its wise to keep the system up to date!\n",
        "# you can skip the following line if you not\n",
        "# want to update all your software\n",
        "sudo apt upgrade\n",
        "# installing python 2.7 and pip for it\n",
        "\n",
        "\n",
        "sudo apt install python2.7 python-pip\n",
        "\n",
        "sudo pip uninstall grpcio -y &&sudo pip install grpcio==1.24.3 \n",
        "\n",
        "sudo pip uninstall tensorflow -y &&sudo pip install tensorflow==1.13.1\n",
        "\n",
        "sudo pip uninstall tensorboard -y &&sudo pip install tensorboard===1.13.0\n",
        "\n",
        "sudo pip uninstall tensorflow-estimator -y &&sudo pip install tensorflow-estimator==1.13.0\n",
        "\n",
        " \n",
        "\n",
        "\n",
        "\n",
        "#sudo pip install --upgrade tensorflow\n",
        "\n",
        "sudo pip install  tensorflow-gpu==1.13.1\n",
        "\n",
        "sudo pip install fancyimpute==0.4.3\n",
        "\n",
        "sudo pip install keras==2.0.8\n",
        "\n",
        "\n",
        "sudo pip install numpy==1.13.1\n",
        "\n",
        "sudo pip install pandas==0.20.3\n",
        "\n",
        "sudo pip install matplotlib\n",
        "\n",
        "\n",
        "sudo pip install dicom\n",
        "\n",
        "\n",
        "\n",
        "sudo apt-get install gdebi\n",
        "\n",
        "wget -c launchpadlibrarian.net/70575443/libgmp3c2_4.3.2%2Bdfsg-2ubuntu1_i386.deb\n",
        "\n",
        "wget http://optimate.dl.sourceforge.net/project/peazip/5.4.1/peazip_5.4.1.LINUX.GTK2-2_i386.deb\n",
        "\n",
        "sudo gdebi libgmp3c2_4.3.2+dfsg-2ubuntu1_i386.deb\n",
        "\n",
        "sudo gdebi peazip_5.4.1.LINUX.GTK2-2_i386.deb\n",
        "\n",
        "\n",
        "sudo apt-get update &&sudo apt-get install openjdk-7-jre --no-install-recommends\n",
        "\n",
        "wget https://launchpad.net/ubuntu/+archive/primary/+files/snapd_2.37.1_amd64.deb\n",
        "sudo dpkg -i snapd_2.37.1_amd64.deb\n",
        "\n",
        "#https://launchpad.net/~mystic-mirage/+archive/ubuntu/pycharm/+packages\n",
        "\n",
        "wget https://launchpad.net/~mystic-mirage/+archive/ubuntu/pycharm/+files/pycharm-community_2016.3~mm1_all.deb\n",
        "\n",
        "sudo dpkg -i pycharm-community_2016.3~mm1_all.deb\n",
        "\n",
        "!git lfs install\n",
        "!sudo apt --fix-broken install\n",
        "!wget https://dl.google.com/linux/direct/google-chrome-stable_current_amd64.deb\n",
        "!sudo apt install ./google-chrome-stable_current_amd64.deb\n",
        "#https://stackoverflow.com/questions/53358969/stuck-when-installing-phpmyadmin\n",
        "!sudo rm /var/lib/apt/lists/lock\n",
        "!sudo rm /var/cache/apt/archives/lock\n",
        "!sudo rm /var/lib/dpkg/lock\n",
        "\n",
        "```"
      ]
    },
    {
      "cell_type": "code",
      "metadata": {
        "id": "PrVX5VwnVqNU"
      },
      "source": [
        "#https://askubuntu.com/questions/981118/correct-way-to-install-python-2-7-on-ubuntu-17-10\n",
        "\n",
        "# refreshing the repositories\n",
        "!sudo apt update\n",
        "# its wise to keep the system up to date!\n",
        "# you can skip the following line if you not\n",
        "# want to update all your software\n",
        "!sudo apt upgrade\n",
        "# installing python 2.7 and pip for it\n",
        "\n",
        "\n",
        "!sudo apt install python2.7 python-pip\n",
        "\n",
        "!sudo pip uninstall grpcio -y &&sudo pip install grpcio==1.24.3 \n",
        "\n",
        "!sudo pip uninstall tensorflow -y &&sudo pip install tensorflow==1.13.1\n",
        "\n",
        "!sudo pip uninstall tensorboard -y &&sudo pip install tensorboard===1.13.0\n",
        "\n",
        "!sudo pip uninstall tensorflow-estimator -y &&sudo pip install tensorflow-estimator==1.13.0\n",
        "\n",
        " \n",
        "\n",
        "\n",
        "\n",
        "#sudo pip install --upgrade tensorflow\n",
        "\n",
        "!sudo pip install  tensorflow-gpu==1.13.1\n",
        "\n",
        "!sudo pip install fancyimpute==0.4.3\n",
        "\n",
        "!sudo pip install keras==2.0.8\n",
        "\n",
        "\n",
        "!sudo pip install numpy==1.13.1\n",
        "\n",
        "!sudo pip install pandas==0.20.3\n",
        "\n",
        "!sudo pip install matplotlib\n",
        "\n",
        "\n",
        "!sudo pip install dicom\n",
        "\n",
        "\n",
        "#install 7zip gui\n",
        "!sudo apt-get install gdebi\n",
        "\n",
        "!wget -c launchpadlibrarian.net/70575443/libgmp3c2_4.3.2%2Bdfsg-2ubuntu1_i386.deb\n",
        "\n",
        "!wget http://optimate.dl.sourceforge.net/project/peazip/5.4.1/peazip_5.4.1.LINUX.GTK2-2_i386.deb\n",
        "\n",
        "!sudo gdebi libgmp3c2_4.3.2+dfsg-2ubuntu1_i386.deb\n",
        "\n",
        "!sudo gdebi peazip_5.4.1.LINUX.GTK2-2_i386.deb\n",
        "\n",
        "\n",
        "!sudo apt-get update &&sudo apt-get install openjdk-7-jre --no-install-recommends\n",
        "\n",
        "!wget https://launchpad.net/ubuntu/+archive/primary/+files/snapd_2.37.1_amd64.deb\n",
        "!sudo dpkg -i snapd_2.37.1_amd64.deb\n",
        "\n",
        "#https://launchpad.net/~mystic-mirage/+archive/ubuntu/pycharm/+packages\n",
        "\n",
        "!wget https://launchpad.net/~mystic-mirage/+archive/ubuntu/pycharm/+files/pycharm-community_2016.3~mm1_all.deb\n",
        "\n",
        "!sudo dpkg -i pycharm-community_2016.3~mm1_all.deb\n",
        "\n",
        "\n",
        "\n",
        "!curl -s https://packagecloud.io/install/repositories/github/git-lfs/script.deb.sh | sudo bash\n",
        "!sudo apt-get install git-lfs\n",
        "\n",
        "\n"
      ],
      "execution_count": null,
      "outputs": []
    },
    {
      "cell_type": "code",
      "metadata": {
        "id": "rLWfzeVsWjUQ"
      },
      "source": [
        "\n",
        "!git lfs install\n",
        "!sudo apt --fix-broken install\n",
        "!wget https://dl.google.com/linux/direct/google-chrome-stable_current_amd64.deb\n",
        "!sudo apt install ./google-chrome-stable_current_amd64.deb\n",
        "#https://stackoverflow.com/questions/53358969/stuck-when-installing-phpmyadmin\n",
        "!sudo rm /var/lib/apt/lists/lock\n",
        "!sudo rm /var/cache/apt/archives/lock\n",
        "!sudo rm /var/lib/dpkg/lock"
      ],
      "execution_count": null,
      "outputs": []
    },
    {
      "cell_type": "markdown",
      "metadata": {
        "id": "L8THM8WPWqU9"
      },
      "source": [
        "#Download the Panceras Dataset form here:\n",
        "\n",
        "And Uplaod it to internet:, based of this [post](https://transfer.sh/):\n",
        "\n",
        "wget --method PUT --body-file=/tmp/file.tar https://transfer.sh/file.tar -O - -nv\n"
      ]
    },
    {
      "cell_type": "code",
      "metadata": {
        "id": "undxK36ugx1A"
      },
      "source": [
        "!wget https://cbiit-download.nci.nih.gov/nbia/releases/ForTCIA/NBIADataRetriever_3.6/nbia-data-retriever-3.6.deb\n",
        "!sudo -S dpkg -r nbia-data-retriever-3.5.deb;sudo -S dpkg -i nbia-data-retriever-3.6.deb\n",
        "!wget https://wiki.cancerimagingarchive.net/download/attachments/22514040/Pancreas-CT%2020200910.tcia?version=1&modificationDate=1599754273288&api=v2\n"
      ],
      "execution_count": null,
      "outputs": []
    },
    {
      "cell_type": "code",
      "metadata": {
        "id": "-yNy9XkY_840",
        "outputId": "f5f74d96-a6c2-481a-ebf9-cdc05d3b6941",
        "colab": {
          "base_uri": "https://localhost:8080/",
          "height": 252
        }
      },
      "source": [
        "# !wget https://wiki.cancerimagingarchive.net/download/attachments/22514040/Pancreas-CT%2020200910.tcia?version=1&modificationDate=1599754273288&api=v2&download=true\n",
        "!wget https://wiki.cancerimagingarchive.net/download/attachments/22514040/Pancreas-CT%2020200910.tcia?version=1&modificationDate=1599754273288&api=v2&download=true"
      ],
      "execution_count": null,
      "outputs": [
        {
          "output_type": "stream",
          "text": [
            "--2020-10-03 19:47:57--  https://wiki.cancerimagingarchive.net/download/attachments/22514040/Pancreas-CT%2020200910.tcia?version=1\n",
            "Resolving wiki.cancerimagingarchive.net (wiki.cancerimagingarchive.net)... 144.30.169.13\n",
            "Connecting to wiki.cancerimagingarchive.net (wiki.cancerimagingarchive.net)|144.30.169.13|:443... connected.\n",
            "HTTP request sent, awaiting response... 200 \n",
            "Length: 5411 (5.3K) [application/x-nbia-manifest-file]\n",
            "Saving to: ‘Pancreas-CT 20200910.tcia?version=1.2’\n",
            "\n",
            "\r          Pancreas-   0%[                    ]       0  --.-KB/s               \rPancreas-CT 2020091 100%[===================>]   5.28K  --.-KB/s    in 0s      \n",
            "\n",
            "Last-modified header invalid -- time-stamp ignored.\n",
            "2020-10-03 19:47:57 (75.4 MB/s) - ‘Pancreas-CT 20200910.tcia?version=1.2’ saved [5411/5411]\n",
            "\n"
          ],
          "name": "stdout"
        }
      ]
    },
    {
      "cell_type": "code",
      "metadata": {
        "id": "E-m8L2g3n20a",
        "outputId": "7f178af1-ea2a-4efc-bac9-5b0af2cc4b89",
        "colab": {
          "base_uri": "https://localhost:8080/",
          "height": 34
        }
      },
      "source": [
        "from google.colab import drive\n",
        "drive.mount('/content/drive')"
      ],
      "execution_count": 77,
      "outputs": [
        {
          "output_type": "stream",
          "text": [
            "Mounted at /content/drive\n"
          ],
          "name": "stdout"
        }
      ]
    },
    {
      "cell_type": "markdown",
      "metadata": {
        "id": "jrZe0sHFI0ly"
      },
      "source": [
        "#Step 2. Clone this repo in your project root directory.\n",
        "\n"
      ]
    },
    {
      "cell_type": "code",
      "metadata": {
        "id": "hbF7D8lVI2WR",
        "outputId": "04f9c45d-9b0b-45cc-e460-c81d78e17d33",
        "colab": {
          "base_uri": "https://localhost:8080/",
          "height": 52
        }
      },
      "source": [
        "%cd /content\n",
        "!git clone \"https://github.com/snapfinger/pancreas-seg\""
      ],
      "execution_count": 78,
      "outputs": [
        {
          "output_type": "stream",
          "text": [
            "/content\n",
            "fatal: destination path 'pancreas-seg' already exists and is not an empty directory.\n"
          ],
          "name": "stdout"
        }
      ]
    },
    {
      "cell_type": "code",
      "metadata": {
        "id": "Li76R-9coCjm"
      },
      "source": [
        "!ln -s '/content/drive/My Drive/Pancras_CT_Datase_cancerimagingarchive_net/Pancreas_CT' '/content/Panc_Dataset'"
      ],
      "execution_count": 82,
      "outputs": []
    },
    {
      "cell_type": "markdown",
      "metadata": {
        "id": "BEXtz02DJEtL"
      },
      "source": [
        "#Step 3. Modify the path variables in pipeline to fit your own settings.\n",
        "\n"
      ]
    },
    {
      "cell_type": "code",
      "metadata": {
        "id": "2sx6yxzzoQNu",
        "outputId": "721aaf14-4cce-4c93-bd5e-30b597de605a",
        "colab": {
          "base_uri": "https://localhost:8080/",
          "height": 34
        }
      },
      "source": [
        "%cd pancreas-seg\n",
        "!mv pipeline pipeline0"
      ],
      "execution_count": 79,
      "outputs": [
        {
          "output_type": "stream",
          "text": [
            "/content/pancreas-seg\n"
          ],
          "name": "stdout"
        }
      ]
    },
    {
      "cell_type": "code",
      "metadata": {
        "id": "Q9-bUzHoJF88",
        "outputId": "f122859b-7067-49e0-9d5a-79551790994f",
        "colab": {
          "base_uri": "https://localhost:8080/",
          "height": 16
        }
      },
      "source": [
        "%%shell\n",
        "cat  <<EOF > pipeline\n",
        "\n",
        "#!/bin/sh\n",
        "\n",
        "# directory of project folder\n",
        "DIR=\"/content/pancreas-seg\"\n",
        "DATADIR=\"/content/Panc_Dataset\"\n",
        "CODEDIR=\"${DIR}/repo\"\n",
        "\n",
        "\n",
        "# which fold to experiment, set it to 0 / 1/ 2/ 3\n",
        "cur_fold=0\n",
        "\n",
        "# settings same as in fixed-point\n",
        "FOLDS=4\n",
        "LOW_RANGE=-100\n",
        "HIGH_RANGE=240\n",
        "ORGAN_NUMBER=1\n",
        "MARGIN=20\n",
        "# to build a uniform dimension for input of NN\n",
        "ZMAX=160\n",
        "YMAX=256\n",
        "XMAX=192\n",
        "# parameters of training\n",
        "epoch=10\n",
        "init_lr=1e-5\n",
        "# model to test\n",
        "model_test=unet_fd${cur_fold}_Z_ep${epoch}_lr${init_lr}\n",
        "# if want to view visualization of model's prediction slice by slice, set vis to true\n",
        "vis=false\n",
        "\n",
        "# ---------------- programs -------------------\n",
        "# slice the 3d volumn to 2d slices\n",
        "python slice.py ${DATADIR} ${ORGAN_NUMBER} ${FOLDS} ${LOW_RANGE} ${HIGH_RANGE}\n",
        "\n",
        "# create data for training\n",
        "python data.py ${DATADIR} ${cur_fold} Z ${ZMAX} ${YMAX} ${XMAX} ${MARGIN} ${ORGAN_NUMBER} ${LOW_RANGE} ${HIGH_RANGE}\n",
        "\n",
        "# train the model\n",
        "python unet.py ${DATADIR} ${cur_fold} Z ${epoch} ${init_lr}\n",
        "\n",
        "# test the model\n",
        "python testvis.py ${DATADIR} ${model_test} ${cur_fold} Z ${ZMAX} ${YMAX} ${XMAX} ${HIGH_RANGE} ${LOW_RANGE} ${MARGIN} ${vis}\n",
        "\n",
        "EOF"
      ],
      "execution_count": 86,
      "outputs": [
        {
          "output_type": "execute_result",
          "data": {
            "text/plain": [
              ""
            ]
          },
          "metadata": {
            "tags": []
          },
          "execution_count": 86
        }
      ]
    },
    {
      "cell_type": "markdown",
      "metadata": {
        "id": "OJvGUg6Lotbs"
      },
      "source": [
        "#Step 4. Execute script\n",
        "```\n",
        "chmod +x pipeline\n",
        "./pipeline\n",
        "```"
      ]
    },
    {
      "cell_type": "code",
      "metadata": {
        "id": "A4jJmDProw7O",
        "outputId": "9bf3304f-f09e-4e16-ddb5-80b4678c136f",
        "colab": {
          "base_uri": "https://localhost:8080/",
          "height": 654
        }
      },
      "source": [
        "%%shell\n",
        "cd /content/pancreas-seg\n",
        "chmod +x pipeline\n",
        "./pipeline"
      ],
      "execution_count": 87,
      "outputs": [
        {
          "output_type": "stream",
          "text": [
            "  File \"slice.py\", line 33\n",
            "    if keyword in filename:\n",
            "                          ^\n",
            "IndentationError: unindent does not match any outer indentation level\n",
            "data_path:  Z\n",
            "Traceback (most recent call last):\n",
            "  File \"data.py\", line 114, in <module>\n",
            "    current_fold = int(sys.argv[2])\n",
            "IndexError: list index out of range\n",
            "  File \"unet.py\", line 54\n",
            "    def get_unet((img_rows, img_cols), flt=64, pool_size=(2, 2, 2), init_lr=1.0e-5):\n",
            "                 ^\n",
            "SyntaxError: invalid syntax\n",
            "  File \"testvis.py\", line 61\n",
            "    print \"-\"*50\n",
            "            ^\n",
            "SyntaxError: Missing parentheses in call to 'print'. Did you mean print(\"-\"*50)?\n"
          ],
          "name": "stdout"
        },
        {
          "output_type": "error",
          "ename": "CalledProcessError",
          "evalue": "ignored",
          "traceback": [
            "\u001b[0;31m---------------------------------------------------------------------------\u001b[0m",
            "\u001b[0;31mCalledProcessError\u001b[0m                        Traceback (most recent call last)",
            "\u001b[0;32m<ipython-input-87-7ebf00cd2428>\u001b[0m in \u001b[0;36m<module>\u001b[0;34m()\u001b[0m\n\u001b[0;32m----> 1\u001b[0;31m \u001b[0mget_ipython\u001b[0m\u001b[0;34m(\u001b[0m\u001b[0;34m)\u001b[0m\u001b[0;34m.\u001b[0m\u001b[0mrun_cell_magic\u001b[0m\u001b[0;34m(\u001b[0m\u001b[0;34m'shell'\u001b[0m\u001b[0;34m,\u001b[0m \u001b[0;34m''\u001b[0m\u001b[0;34m,\u001b[0m \u001b[0;34m'cd /content/pancreas-seg\\nchmod +x pipeline\\n./pipeline'\u001b[0m\u001b[0;34m)\u001b[0m\u001b[0;34m\u001b[0m\u001b[0;34m\u001b[0m\u001b[0m\n\u001b[0m",
            "\u001b[0;32m/usr/local/lib/python3.6/dist-packages/IPython/core/interactiveshell.py\u001b[0m in \u001b[0;36mrun_cell_magic\u001b[0;34m(self, magic_name, line, cell)\u001b[0m\n\u001b[1;32m   2115\u001b[0m             \u001b[0mmagic_arg_s\u001b[0m \u001b[0;34m=\u001b[0m \u001b[0mself\u001b[0m\u001b[0;34m.\u001b[0m\u001b[0mvar_expand\u001b[0m\u001b[0;34m(\u001b[0m\u001b[0mline\u001b[0m\u001b[0;34m,\u001b[0m \u001b[0mstack_depth\u001b[0m\u001b[0;34m)\u001b[0m\u001b[0;34m\u001b[0m\u001b[0;34m\u001b[0m\u001b[0m\n\u001b[1;32m   2116\u001b[0m             \u001b[0;32mwith\u001b[0m \u001b[0mself\u001b[0m\u001b[0;34m.\u001b[0m\u001b[0mbuiltin_trap\u001b[0m\u001b[0;34m:\u001b[0m\u001b[0;34m\u001b[0m\u001b[0;34m\u001b[0m\u001b[0m\n\u001b[0;32m-> 2117\u001b[0;31m                 \u001b[0mresult\u001b[0m \u001b[0;34m=\u001b[0m \u001b[0mfn\u001b[0m\u001b[0;34m(\u001b[0m\u001b[0mmagic_arg_s\u001b[0m\u001b[0;34m,\u001b[0m \u001b[0mcell\u001b[0m\u001b[0;34m)\u001b[0m\u001b[0;34m\u001b[0m\u001b[0;34m\u001b[0m\u001b[0m\n\u001b[0m\u001b[1;32m   2118\u001b[0m             \u001b[0;32mreturn\u001b[0m \u001b[0mresult\u001b[0m\u001b[0;34m\u001b[0m\u001b[0;34m\u001b[0m\u001b[0m\n\u001b[1;32m   2119\u001b[0m \u001b[0;34m\u001b[0m\u001b[0m\n",
            "\u001b[0;32m/usr/local/lib/python3.6/dist-packages/google/colab/_system_commands.py\u001b[0m in \u001b[0;36m_shell_cell_magic\u001b[0;34m(args, cmd)\u001b[0m\n\u001b[1;32m    110\u001b[0m   \u001b[0mresult\u001b[0m \u001b[0;34m=\u001b[0m \u001b[0m_run_command\u001b[0m\u001b[0;34m(\u001b[0m\u001b[0mcmd\u001b[0m\u001b[0;34m,\u001b[0m \u001b[0mclear_streamed_output\u001b[0m\u001b[0;34m=\u001b[0m\u001b[0;32mFalse\u001b[0m\u001b[0;34m)\u001b[0m\u001b[0;34m\u001b[0m\u001b[0;34m\u001b[0m\u001b[0m\n\u001b[1;32m    111\u001b[0m   \u001b[0;32mif\u001b[0m \u001b[0;32mnot\u001b[0m \u001b[0mparsed_args\u001b[0m\u001b[0;34m.\u001b[0m\u001b[0mignore_errors\u001b[0m\u001b[0;34m:\u001b[0m\u001b[0;34m\u001b[0m\u001b[0;34m\u001b[0m\u001b[0m\n\u001b[0;32m--> 112\u001b[0;31m     \u001b[0mresult\u001b[0m\u001b[0;34m.\u001b[0m\u001b[0mcheck_returncode\u001b[0m\u001b[0;34m(\u001b[0m\u001b[0;34m)\u001b[0m\u001b[0;34m\u001b[0m\u001b[0;34m\u001b[0m\u001b[0m\n\u001b[0m\u001b[1;32m    113\u001b[0m   \u001b[0;32mreturn\u001b[0m \u001b[0mresult\u001b[0m\u001b[0;34m\u001b[0m\u001b[0;34m\u001b[0m\u001b[0m\n\u001b[1;32m    114\u001b[0m \u001b[0;34m\u001b[0m\u001b[0m\n",
            "\u001b[0;32m/usr/local/lib/python3.6/dist-packages/google/colab/_system_commands.py\u001b[0m in \u001b[0;36mcheck_returncode\u001b[0;34m(self)\u001b[0m\n\u001b[1;32m    136\u001b[0m     \u001b[0;32mif\u001b[0m \u001b[0mself\u001b[0m\u001b[0;34m.\u001b[0m\u001b[0mreturncode\u001b[0m\u001b[0;34m:\u001b[0m\u001b[0;34m\u001b[0m\u001b[0;34m\u001b[0m\u001b[0m\n\u001b[1;32m    137\u001b[0m       raise subprocess.CalledProcessError(\n\u001b[0;32m--> 138\u001b[0;31m           returncode=self.returncode, cmd=self.args, output=self.output)\n\u001b[0m\u001b[1;32m    139\u001b[0m \u001b[0;34m\u001b[0m\u001b[0m\n\u001b[1;32m    140\u001b[0m   \u001b[0;32mdef\u001b[0m \u001b[0m_repr_pretty_\u001b[0m\u001b[0;34m(\u001b[0m\u001b[0mself\u001b[0m\u001b[0;34m,\u001b[0m \u001b[0mp\u001b[0m\u001b[0;34m,\u001b[0m \u001b[0mcycle\u001b[0m\u001b[0;34m)\u001b[0m\u001b[0;34m:\u001b[0m  \u001b[0;31m# pylint:disable=unused-argument\u001b[0m\u001b[0;34m\u001b[0m\u001b[0;34m\u001b[0m\u001b[0m\n",
            "\u001b[0;31mCalledProcessError\u001b[0m: Command 'cd /content/pancreas-seg\nchmod +x pipeline\n./pipeline' returned non-zero exit status 1."
          ]
        }
      ]
    }
  ]
}