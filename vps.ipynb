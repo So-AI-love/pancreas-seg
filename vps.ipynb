{
  "nbformat": 4,
  "nbformat_minor": 0,
  "metadata": {
    "colab": {
      "name": "vps.ipynb",
      "provenance": [],
      "collapsed_sections": [],
      "authorship_tag": "ABX9TyPrtUxCqs8ExZxGrKd/kAdx",
      "include_colab_link": true
    },
    "kernelspec": {
      "name": "python3",
      "display_name": "Python 3"
    },
    "accelerator": "GPU",
    "widgets": {
      "application/vnd.jupyter.widget-state+json": {
        "ed5ca5183ece4182860b9e55aaa4e313": {
          "model_module": "@jupyter-widgets/controls",
          "model_name": "LabelModel",
          "state": {
            "_view_name": "LabelView",
            "style": "IPY_MODEL_f3af89c4cffa49009df2af79074f76c1",
            "_dom_classes": [],
            "description": "",
            "_model_name": "LabelModel",
            "placeholder": "​",
            "_view_module": "@jupyter-widgets/controls",
            "_model_module_version": "1.5.0",
            "value": "dpkg-exec: Running dpkg",
            "_view_count": null,
            "_view_module_version": "1.5.0",
            "description_tooltip": null,
            "_model_module": "@jupyter-widgets/controls",
            "layout": "IPY_MODEL_e3edb50531114f49a8d5fbb27b5b9b9e"
          }
        },
        "f3af89c4cffa49009df2af79074f76c1": {
          "model_module": "@jupyter-widgets/controls",
          "model_name": "DescriptionStyleModel",
          "state": {
            "_view_name": "StyleView",
            "_model_name": "DescriptionStyleModel",
            "description_width": "",
            "_view_module": "@jupyter-widgets/base",
            "_model_module_version": "1.5.0",
            "_view_count": null,
            "_view_module_version": "1.2.0",
            "_model_module": "@jupyter-widgets/controls"
          }
        },
        "e3edb50531114f49a8d5fbb27b5b9b9e": {
          "model_module": "@jupyter-widgets/base",
          "model_name": "LayoutModel",
          "state": {
            "_view_name": "LayoutView",
            "grid_template_rows": null,
            "right": null,
            "justify_content": null,
            "_view_module": "@jupyter-widgets/base",
            "overflow": null,
            "_model_module_version": "1.2.0",
            "_view_count": null,
            "flex_flow": null,
            "width": null,
            "min_width": null,
            "border": null,
            "align_items": null,
            "bottom": null,
            "_model_module": "@jupyter-widgets/base",
            "top": null,
            "grid_column": null,
            "overflow_y": null,
            "overflow_x": null,
            "grid_auto_flow": null,
            "grid_area": null,
            "grid_template_columns": null,
            "flex": null,
            "_model_name": "LayoutModel",
            "justify_items": null,
            "grid_row": null,
            "max_height": null,
            "align_content": null,
            "visibility": null,
            "align_self": null,
            "height": null,
            "min_height": null,
            "padding": null,
            "grid_auto_rows": null,
            "grid_gap": null,
            "max_width": null,
            "order": null,
            "_view_module_version": "1.2.0",
            "grid_template_areas": null,
            "object_position": null,
            "object_fit": null,
            "grid_auto_columns": null,
            "margin": null,
            "display": null,
            "left": null
          }
        },
        "cf5be54424ba4346a74700198904a01f": {
          "model_module": "@jupyter-widgets/controls",
          "model_name": "FloatProgressModel",
          "state": {
            "_view_name": "ProgressView",
            "style": "IPY_MODEL_fb79a58cb63e4d57bf0479aabb1dc25b",
            "_dom_classes": [],
            "description": "",
            "_model_name": "FloatProgressModel",
            "bar_style": "",
            "max": 1,
            "_view_module": "@jupyter-widgets/controls",
            "_model_module_version": "1.5.0",
            "value": 0,
            "_view_count": null,
            "_view_module_version": "1.5.0",
            "orientation": "horizontal",
            "min": 0,
            "description_tooltip": null,
            "_model_module": "@jupyter-widgets/controls",
            "layout": "IPY_MODEL_63a4232ddf8849ce81272d0e050f766c"
          }
        },
        "fb79a58cb63e4d57bf0479aabb1dc25b": {
          "model_module": "@jupyter-widgets/controls",
          "model_name": "ProgressStyleModel",
          "state": {
            "_view_name": "StyleView",
            "_model_name": "ProgressStyleModel",
            "description_width": "",
            "_view_module": "@jupyter-widgets/base",
            "_model_module_version": "1.5.0",
            "_view_count": null,
            "_view_module_version": "1.2.0",
            "bar_color": null,
            "_model_module": "@jupyter-widgets/controls"
          }
        },
        "63a4232ddf8849ce81272d0e050f766c": {
          "model_module": "@jupyter-widgets/base",
          "model_name": "LayoutModel",
          "state": {
            "_view_name": "LayoutView",
            "grid_template_rows": null,
            "right": null,
            "justify_content": null,
            "_view_module": "@jupyter-widgets/base",
            "overflow": null,
            "_model_module_version": "1.2.0",
            "_view_count": null,
            "flex_flow": null,
            "width": null,
            "min_width": null,
            "border": "1px solid #118800",
            "align_items": null,
            "bottom": null,
            "_model_module": "@jupyter-widgets/base",
            "top": null,
            "grid_column": null,
            "overflow_y": null,
            "overflow_x": null,
            "grid_auto_flow": null,
            "grid_area": null,
            "grid_template_columns": null,
            "flex": null,
            "_model_name": "LayoutModel",
            "justify_items": null,
            "grid_row": null,
            "max_height": null,
            "align_content": null,
            "visibility": null,
            "align_self": null,
            "height": null,
            "min_height": null,
            "padding": null,
            "grid_auto_rows": null,
            "grid_gap": null,
            "max_width": null,
            "order": null,
            "_view_module_version": "1.2.0",
            "grid_template_areas": null,
            "object_position": null,
            "object_fit": null,
            "grid_auto_columns": null,
            "margin": null,
            "display": null,
            "left": null
          }
        },
        "8d31a37c710e47f687504e53f735e1b1": {
          "model_module": "@jupyter-widgets/controls",
          "model_name": "LabelModel",
          "state": {
            "_view_name": "LabelView",
            "style": "IPY_MODEL_0803ba05515a460797e1a8307964f71c",
            "_dom_classes": [],
            "description": "",
            "_model_name": "LabelModel",
            "placeholder": "​",
            "_view_module": "@jupyter-widgets/controls",
            "_model_module_version": "1.5.0",
            "value": "dpkg-exec: Running dpkg",
            "_view_count": null,
            "_view_module_version": "1.5.0",
            "description_tooltip": null,
            "_model_module": "@jupyter-widgets/controls",
            "layout": "IPY_MODEL_2eea96d4755949d988d4b40a47be7ed8"
          }
        },
        "0803ba05515a460797e1a8307964f71c": {
          "model_module": "@jupyter-widgets/controls",
          "model_name": "DescriptionStyleModel",
          "state": {
            "_view_name": "StyleView",
            "_model_name": "DescriptionStyleModel",
            "description_width": "",
            "_view_module": "@jupyter-widgets/base",
            "_model_module_version": "1.5.0",
            "_view_count": null,
            "_view_module_version": "1.2.0",
            "_model_module": "@jupyter-widgets/controls"
          }
        },
        "2eea96d4755949d988d4b40a47be7ed8": {
          "model_module": "@jupyter-widgets/base",
          "model_name": "LayoutModel",
          "state": {
            "_view_name": "LayoutView",
            "grid_template_rows": null,
            "right": null,
            "justify_content": null,
            "_view_module": "@jupyter-widgets/base",
            "overflow": null,
            "_model_module_version": "1.2.0",
            "_view_count": null,
            "flex_flow": null,
            "width": null,
            "min_width": null,
            "border": null,
            "align_items": null,
            "bottom": null,
            "_model_module": "@jupyter-widgets/base",
            "top": null,
            "grid_column": null,
            "overflow_y": null,
            "overflow_x": null,
            "grid_auto_flow": null,
            "grid_area": null,
            "grid_template_columns": null,
            "flex": null,
            "_model_name": "LayoutModel",
            "justify_items": null,
            "grid_row": null,
            "max_height": null,
            "align_content": null,
            "visibility": null,
            "align_self": null,
            "height": null,
            "min_height": null,
            "padding": null,
            "grid_auto_rows": null,
            "grid_gap": null,
            "max_width": null,
            "order": null,
            "_view_module_version": "1.2.0",
            "grid_template_areas": null,
            "object_position": null,
            "object_fit": null,
            "grid_auto_columns": null,
            "margin": null,
            "display": null,
            "left": null
          }
        },
        "a78ab885a0ef491e96733a68f43b4117": {
          "model_module": "@jupyter-widgets/controls",
          "model_name": "FloatProgressModel",
          "state": {
            "_view_name": "ProgressView",
            "style": "IPY_MODEL_ef741e058faa4a4b8c6c8c5203141ea9",
            "_dom_classes": [],
            "description": "",
            "_model_name": "FloatProgressModel",
            "bar_style": "",
            "max": 1,
            "_view_module": "@jupyter-widgets/controls",
            "_model_module_version": "1.5.0",
            "value": 0,
            "_view_count": null,
            "_view_module_version": "1.5.0",
            "orientation": "horizontal",
            "min": 0,
            "description_tooltip": null,
            "_model_module": "@jupyter-widgets/controls",
            "layout": "IPY_MODEL_e0e00a2a7f7e4473a56ba49341730a37"
          }
        },
        "ef741e058faa4a4b8c6c8c5203141ea9": {
          "model_module": "@jupyter-widgets/controls",
          "model_name": "ProgressStyleModel",
          "state": {
            "_view_name": "StyleView",
            "_model_name": "ProgressStyleModel",
            "description_width": "",
            "_view_module": "@jupyter-widgets/base",
            "_model_module_version": "1.5.0",
            "_view_count": null,
            "_view_module_version": "1.2.0",
            "bar_color": null,
            "_model_module": "@jupyter-widgets/controls"
          }
        },
        "e0e00a2a7f7e4473a56ba49341730a37": {
          "model_module": "@jupyter-widgets/base",
          "model_name": "LayoutModel",
          "state": {
            "_view_name": "LayoutView",
            "grid_template_rows": null,
            "right": null,
            "justify_content": null,
            "_view_module": "@jupyter-widgets/base",
            "overflow": null,
            "_model_module_version": "1.2.0",
            "_view_count": null,
            "flex_flow": null,
            "width": null,
            "min_width": null,
            "border": "1px solid #118800",
            "align_items": null,
            "bottom": null,
            "_model_module": "@jupyter-widgets/base",
            "top": null,
            "grid_column": null,
            "overflow_y": null,
            "overflow_x": null,
            "grid_auto_flow": null,
            "grid_area": null,
            "grid_template_columns": null,
            "flex": null,
            "_model_name": "LayoutModel",
            "justify_items": null,
            "grid_row": null,
            "max_height": null,
            "align_content": null,
            "visibility": null,
            "align_self": null,
            "height": null,
            "min_height": null,
            "padding": null,
            "grid_auto_rows": null,
            "grid_gap": null,
            "max_width": null,
            "order": null,
            "_view_module_version": "1.2.0",
            "grid_template_areas": null,
            "object_position": null,
            "object_fit": null,
            "grid_auto_columns": null,
            "margin": null,
            "display": null,
            "left": null
          }
        }
      }
    }
  },
  "cells": [
    {
      "cell_type": "markdown",
      "metadata": {
        "id": "view-in-github",
        "colab_type": "text"
      },
      "source": [
        "<a href=\"https://colab.research.google.com/github/So-AI-love/pancreas-seg/blob/master/vps.ipynb\" target=\"_parent\"><img src=\"https://colab.research.google.com/assets/colab-badge.svg\" alt=\"Open In Colab\"/></a>"
      ]
    },
    {
      "cell_type": "code",
      "metadata": {
        "id": "4ifUnVtuQMWm"
      },
      "source": [
        ""
      ],
      "execution_count": null,
      "outputs": []
    },
    {
      "cell_type": "code",
      "metadata": {
        "id": "wkklYhFELMat",
        "outputId": "e804a9ed-bc5a-4546-cae6-1f548a070c91",
        "colab": {
          "base_uri": "https://localhost:8080/",
          "height": 861,
          "referenced_widgets": [
            "ed5ca5183ece4182860b9e55aaa4e313",
            "f3af89c4cffa49009df2af79074f76c1",
            "e3edb50531114f49a8d5fbb27b5b9b9e",
            "cf5be54424ba4346a74700198904a01f",
            "fb79a58cb63e4d57bf0479aabb1dc25b",
            "63a4232ddf8849ce81272d0e050f766c",
            "8d31a37c710e47f687504e53f735e1b1",
            "0803ba05515a460797e1a8307964f71c",
            "2eea96d4755949d988d4b40a47be7ed8",
            "a78ab885a0ef491e96733a68f43b4117",
            "ef741e058faa4a4b8c6c8c5203141ea9",
            "e0e00a2a7f7e4473a56ba49341730a37"
          ]
        }
      },
      "source": [
        "!pip install git+https://github.com/demotomohiro/remocolab.git\n",
        "import remocolab\n",
        "remocolab.setupVNC()"
      ],
      "execution_count": 2,
      "outputs": [
        {
          "output_type": "stream",
          "text": [
            "Collecting git+https://github.com/demotomohiro/remocolab.git\n",
            "  Cloning https://github.com/demotomohiro/remocolab.git to /tmp/pip-req-build-dtrzr0zx\n",
            "  Running command git clone -q https://github.com/demotomohiro/remocolab.git /tmp/pip-req-build-dtrzr0zx\n",
            "Requirement already satisfied (use --upgrade to upgrade): remocolab.py==0.1 from git+https://github.com/demotomohiro/remocolab.git in /usr/local/lib/python3.6/dist-packages\n",
            "Requirement already satisfied: pyngrok in /usr/local/lib/python3.6/dist-packages (from remocolab.py==0.1) (4.1.13)\n",
            "Requirement already satisfied: PyYAML in /usr/local/lib/python3.6/dist-packages (from pyngrok->remocolab.py==0.1) (3.13)\n",
            "Requirement already satisfied: future in /usr/local/lib/python3.6/dist-packages (from pyngrok->remocolab.py==0.1) (0.16.0)\n",
            "Building wheels for collected packages: remocolab.py\n",
            "  Building wheel for remocolab.py (setup.py) ... \u001b[?25l\u001b[?25hdone\n",
            "  Created wheel for remocolab.py: filename=remocolab.py-0.1-cp36-none-any.whl size=6769 sha256=b3079e333de45f650585d84a78439c26145f15dd9e764e1baefd031849652d62\n",
            "  Stored in directory: /tmp/pip-ephem-wheel-cache-8sta40se/wheels/9e/c3/02/22e12a4614e679c5555718bd4d0356e4b7cc1d69a1f3ddb564\n",
            "Successfully built remocolab.py\n",
            "---\n",
            "Copy&paste your tunnel authtoken from https://dashboard.ngrok.com/auth\n",
            "(You need to sign up for ngrok and login,)\n",
            "··········\n",
            "Select your ngrok region:\n",
            "us - United States (Ohio)\n",
            "eu - Europe (Frankfurt)\n",
            "ap - Asia/Pacific (Singapore)\n",
            "au - Australia (Sydney)\n",
            "sa - South America (Sao Paulo)\n",
            "jp - Japan (Tokyo)\n",
            "in - India (Mumbai)\n",
            "us\n"
          ],
          "name": "stdout"
        },
        {
          "output_type": "display_data",
          "data": {
            "application/vnd.jupyter.widget-view+json": {
              "model_id": "ed5ca5183ece4182860b9e55aaa4e313",
              "version_minor": 0,
              "version_major": 2
            },
            "text/plain": [
              "Label(value='')"
            ]
          },
          "metadata": {
            "tags": []
          }
        },
        {
          "output_type": "display_data",
          "data": {
            "application/vnd.jupyter.widget-view+json": {
              "model_id": "cf5be54424ba4346a74700198904a01f",
              "version_minor": 0,
              "version_major": 2
            },
            "text/plain": [
              "FloatProgress(value=0.0, layout=Layout(border='1px solid #118800'), max=1.0)"
            ]
          },
          "metadata": {
            "tags": []
          }
        },
        {
          "output_type": "stream",
          "text": [
            "openssh-server is already installed\n"
          ],
          "name": "stdout"
        },
        {
          "output_type": "display_data",
          "data": {
            "application/vnd.jupyter.widget-view+json": {
              "model_id": "8d31a37c710e47f687504e53f735e1b1",
              "version_minor": 0,
              "version_major": 2
            },
            "text/plain": [
              "Label(value='')"
            ]
          },
          "metadata": {
            "tags": []
          }
        },
        {
          "output_type": "display_data",
          "data": {
            "application/vnd.jupyter.widget-view+json": {
              "model_id": "a78ab885a0ef491e96733a68f43b4117",
              "version_minor": 0,
              "version_major": 2
            },
            "text/plain": [
              "FloatProgress(value=0.0, layout=Layout(border='1px solid #118800'), max=1.0)"
            ]
          },
          "metadata": {
            "tags": []
          }
        },
        {
          "output_type": "stream",
          "text": [
            "xfce4 is already installed\n",
            "xfce4-terminal is already installed\n"
          ],
          "name": "stdout"
        },
        {
          "output_type": "error",
          "ename": "CalledProcessError",
          "evalue": "ignored",
          "traceback": [
            "\u001b[0;31m---------------------------------------------------------------------------\u001b[0m",
            "\u001b[0;31mCalledProcessError\u001b[0m                        Traceback (most recent call last)",
            "\u001b[0;32m<ipython-input-2-28a0dc8c2d39>\u001b[0m in \u001b[0;36m<module>\u001b[0;34m()\u001b[0m\n\u001b[1;32m      1\u001b[0m \u001b[0mget_ipython\u001b[0m\u001b[0;34m(\u001b[0m\u001b[0;34m)\u001b[0m\u001b[0;34m.\u001b[0m\u001b[0msystem\u001b[0m\u001b[0;34m(\u001b[0m\u001b[0;34m'pip install git+https://github.com/demotomohiro/remocolab.git'\u001b[0m\u001b[0;34m)\u001b[0m\u001b[0;34m\u001b[0m\u001b[0;34m\u001b[0m\u001b[0m\n\u001b[1;32m      2\u001b[0m \u001b[0;32mimport\u001b[0m \u001b[0mremocolab\u001b[0m\u001b[0;34m\u001b[0m\u001b[0;34m\u001b[0m\u001b[0m\n\u001b[0;32m----> 3\u001b[0;31m \u001b[0mremocolab\u001b[0m\u001b[0;34m.\u001b[0m\u001b[0msetupVNC\u001b[0m\u001b[0;34m(\u001b[0m\u001b[0;34m)\u001b[0m\u001b[0;34m\u001b[0m\u001b[0;34m\u001b[0m\u001b[0m\n\u001b[0m",
            "\u001b[0;32m/usr/local/lib/python3.6/dist-packages/remocolab.py\u001b[0m in \u001b[0;36msetupVNC\u001b[0;34m(ngrok_region, check_gpu_available, tunnel, public_key)\u001b[0m\n\u001b[1;32m    373\u001b[0m   \u001b[0mstat\u001b[0m\u001b[0;34m,\u001b[0m \u001b[0mmsg\u001b[0m \u001b[0;34m=\u001b[0m \u001b[0m_setupSSHDMain\u001b[0m\u001b[0;34m(\u001b[0m\u001b[0mpublic_key\u001b[0m\u001b[0;34m,\u001b[0m \u001b[0mtunnel\u001b[0m\u001b[0;34m,\u001b[0m \u001b[0mngrok_region\u001b[0m\u001b[0;34m,\u001b[0m \u001b[0mcheck_gpu_available\u001b[0m\u001b[0;34m,\u001b[0m \u001b[0;32mTrue\u001b[0m\u001b[0;34m)\u001b[0m\u001b[0;34m\u001b[0m\u001b[0;34m\u001b[0m\u001b[0m\n\u001b[1;32m    374\u001b[0m   \u001b[0;32mif\u001b[0m \u001b[0mstat\u001b[0m\u001b[0;34m:\u001b[0m\u001b[0;34m\u001b[0m\u001b[0;34m\u001b[0m\u001b[0m\n\u001b[0;32m--> 375\u001b[0;31m     \u001b[0mmsg\u001b[0m \u001b[0;34m+=\u001b[0m \u001b[0m_setupVNC\u001b[0m\u001b[0;34m(\u001b[0m\u001b[0;34m)\u001b[0m\u001b[0;34m\u001b[0m\u001b[0;34m\u001b[0m\u001b[0m\n\u001b[0m\u001b[1;32m    376\u001b[0m \u001b[0;34m\u001b[0m\u001b[0m\n\u001b[1;32m    377\u001b[0m   \u001b[0mprint\u001b[0m\u001b[0;34m(\u001b[0m\u001b[0mmsg\u001b[0m\u001b[0;34m)\u001b[0m\u001b[0;34m\u001b[0m\u001b[0;34m\u001b[0m\u001b[0m\n",
            "\u001b[0;32m/usr/local/lib/python3.6/dist-packages/remocolab.py\u001b[0m in \u001b[0;36m_setupVNC\u001b[0;34m()\u001b[0m\n\u001b[1;32m    332\u001b[0m   \u001b[0mgpu_name\u001b[0m \u001b[0;34m=\u001b[0m \u001b[0m_get_gpu_name\u001b[0m\u001b[0;34m(\u001b[0m\u001b[0;34m)\u001b[0m\u001b[0;34m\u001b[0m\u001b[0;34m\u001b[0m\u001b[0m\n\u001b[1;32m    333\u001b[0m   \u001b[0;32mif\u001b[0m \u001b[0mgpu_name\u001b[0m \u001b[0;34m!=\u001b[0m \u001b[0;32mNone\u001b[0m\u001b[0;34m:\u001b[0m\u001b[0;34m\u001b[0m\u001b[0;34m\u001b[0m\u001b[0m\n\u001b[0;32m--> 334\u001b[0;31m     \u001b[0m_setup_nvidia_gl\u001b[0m\u001b[0;34m(\u001b[0m\u001b[0;34m)\u001b[0m\u001b[0;34m\u001b[0m\u001b[0;34m\u001b[0m\u001b[0m\n\u001b[0m\u001b[1;32m    335\u001b[0m \u001b[0;34m\u001b[0m\u001b[0m\n\u001b[1;32m    336\u001b[0m   \u001b[0mvncrun_py\u001b[0m \u001b[0;34m=\u001b[0m \u001b[0mtempfile\u001b[0m\u001b[0;34m.\u001b[0m\u001b[0mgettempdir\u001b[0m\u001b[0;34m(\u001b[0m\u001b[0;34m)\u001b[0m \u001b[0;34m/\u001b[0m \u001b[0mpathlib\u001b[0m\u001b[0;34m.\u001b[0m\u001b[0mPath\u001b[0m\u001b[0;34m(\u001b[0m\u001b[0;34m\"vncrun.py\"\u001b[0m\u001b[0;34m)\u001b[0m\u001b[0;34m\u001b[0m\u001b[0;34m\u001b[0m\u001b[0m\n",
            "\u001b[0;32m/usr/local/lib/python3.6/dist-packages/remocolab.py\u001b[0m in \u001b[0;36m_setup_nvidia_gl\u001b[0;34m()\u001b[0m\n\u001b[1;32m    261\u001b[0m   \u001b[0m_download\u001b[0m\u001b[0;34m(\u001b[0m\u001b[0mnvidia_url\u001b[0m\u001b[0;34m,\u001b[0m \u001b[0;34m\"nvidia.run\"\u001b[0m\u001b[0;34m)\u001b[0m\u001b[0;34m\u001b[0m\u001b[0;34m\u001b[0m\u001b[0m\n\u001b[1;32m    262\u001b[0m   \u001b[0mpathlib\u001b[0m\u001b[0;34m.\u001b[0m\u001b[0mPath\u001b[0m\u001b[0;34m(\u001b[0m\u001b[0;34m\"nvidia.run\"\u001b[0m\u001b[0;34m)\u001b[0m\u001b[0;34m.\u001b[0m\u001b[0mchmod\u001b[0m\u001b[0;34m(\u001b[0m\u001b[0mstat\u001b[0m\u001b[0;34m.\u001b[0m\u001b[0mS_IXUSR\u001b[0m\u001b[0;34m)\u001b[0m\u001b[0;34m\u001b[0m\u001b[0;34m\u001b[0m\u001b[0m\n\u001b[0;32m--> 263\u001b[0;31m   \u001b[0msubprocess\u001b[0m\u001b[0;34m.\u001b[0m\u001b[0mrun\u001b[0m\u001b[0;34m(\u001b[0m\u001b[0;34m[\u001b[0m\u001b[0;34m\"./nvidia.run\"\u001b[0m\u001b[0;34m,\u001b[0m \u001b[0;34m\"--no-kernel-module\"\u001b[0m\u001b[0;34m,\u001b[0m \u001b[0;34m\"--ui=none\"\u001b[0m\u001b[0;34m]\u001b[0m\u001b[0;34m,\u001b[0m \u001b[0minput\u001b[0m \u001b[0;34m=\u001b[0m \u001b[0;34m\"1\\n\"\u001b[0m\u001b[0;34m,\u001b[0m \u001b[0mcheck\u001b[0m \u001b[0;34m=\u001b[0m \u001b[0;32mTrue\u001b[0m\u001b[0;34m,\u001b[0m \u001b[0muniversal_newlines\u001b[0m \u001b[0;34m=\u001b[0m \u001b[0;32mTrue\u001b[0m\u001b[0;34m)\u001b[0m\u001b[0;34m\u001b[0m\u001b[0;34m\u001b[0m\u001b[0m\n\u001b[0m\u001b[1;32m    264\u001b[0m \u001b[0;34m\u001b[0m\u001b[0m\n\u001b[1;32m    265\u001b[0m   \u001b[0;31m#https://virtualgl.org/Documentation/HeadlessNV\u001b[0m\u001b[0;34m\u001b[0m\u001b[0;34m\u001b[0m\u001b[0;34m\u001b[0m\u001b[0m\n",
            "\u001b[0;32m/usr/lib/python3.6/subprocess.py\u001b[0m in \u001b[0;36mrun\u001b[0;34m(input, timeout, check, *popenargs, **kwargs)\u001b[0m\n\u001b[1;32m    436\u001b[0m         \u001b[0;32mif\u001b[0m \u001b[0mcheck\u001b[0m \u001b[0;32mand\u001b[0m \u001b[0mretcode\u001b[0m\u001b[0;34m:\u001b[0m\u001b[0;34m\u001b[0m\u001b[0;34m\u001b[0m\u001b[0m\n\u001b[1;32m    437\u001b[0m             raise CalledProcessError(retcode, process.args,\n\u001b[0;32m--> 438\u001b[0;31m                                      output=stdout, stderr=stderr)\n\u001b[0m\u001b[1;32m    439\u001b[0m     \u001b[0;32mreturn\u001b[0m \u001b[0mCompletedProcess\u001b[0m\u001b[0;34m(\u001b[0m\u001b[0mprocess\u001b[0m\u001b[0;34m.\u001b[0m\u001b[0margs\u001b[0m\u001b[0;34m,\u001b[0m \u001b[0mretcode\u001b[0m\u001b[0;34m,\u001b[0m \u001b[0mstdout\u001b[0m\u001b[0;34m,\u001b[0m \u001b[0mstderr\u001b[0m\u001b[0;34m)\u001b[0m\u001b[0;34m\u001b[0m\u001b[0;34m\u001b[0m\u001b[0m\n\u001b[1;32m    440\u001b[0m \u001b[0;34m\u001b[0m\u001b[0m\n",
            "\u001b[0;31mCalledProcessError\u001b[0m: Command '['./nvidia.run', '--no-kernel-module', '--ui=none']' returned non-zero exit status 1."
          ]
        }
      ]
    },
    {
      "cell_type": "code",
      "metadata": {
        "id": "qYE7WQzCQNnd"
      },
      "source": [
        "#https://askubuntu.com/questions/981118/correct-way-to-install-python-2-7-on-ubuntu-17-10\n",
        "\n",
        "# refreshing the repositories\n",
        "!sudo apt update\n",
        "# its wise to keep the system up to date!\n",
        "# you can skip the following line if you not\n",
        "# want to update all your software\n",
        "!sudo apt upgrade\n",
        "# installing python 2.7 and pip for it\n",
        "\n",
        "\n",
        "!sudo apt install python2.7 python-pip\n",
        "\n",
        "!sudo pip uninstall grpcio -y &&sudo pip install grpcio==1.24.3 \n",
        "\n",
        "!sudo pip uninstall tensorflow -y &&sudo pip install tensorflow==1.13.1\n",
        "\n",
        "!sudo pip uninstall tensorboard -y &&sudo pip install tensorboard===1.13.0\n",
        "\n",
        "!sudo pip uninstall tensorflow-estimator -y &&sudo pip install tensorflow-estimator==1.13.0\n",
        "\n",
        " \n",
        "\n",
        "\n",
        "\n",
        "#sudo pip install --upgrade tensorflow\n",
        "\n",
        "!sudo pip install  tensorflow-gpu==1.13.1\n",
        "\n",
        "!sudo pip install fancyimpute==0.4.3\n",
        "\n",
        "!sudo pip install keras==2.0.8\n",
        "\n",
        "\n",
        "!sudo pip install numpy==1.13.1\n",
        "\n",
        "!sudo pip install pandas==0.20.3\n",
        "\n",
        "!sudo pip install matplotlib\n",
        "\n",
        "\n",
        "!sudo pip install dicom\n",
        "\n",
        "\n",
        "#install 7zip gui\n",
        "!sudo apt-get install gdebi\n",
        "\n",
        "!wget -c launchpadlibrarian.net/70575443/libgmp3c2_4.3.2%2Bdfsg-2ubuntu1_i386.deb\n",
        "\n",
        "!wget http://optimate.dl.sourceforge.net/project/peazip/5.4.1/peazip_5.4.1.LINUX.GTK2-2_i386.deb\n",
        "\n",
        "!sudo gdebi libgmp3c2_4.3.2+dfsg-2ubuntu1_i386.deb\n",
        "\n",
        "!sudo gdebi peazip_5.4.1.LINUX.GTK2-2_i386.deb\n",
        "\n",
        "\n",
        "!sudo apt-get update &&sudo apt-get install openjdk-7-jre --no-install-recommends\n",
        "\n",
        "!wget https://launchpad.net/ubuntu/+archive/primary/+files/snapd_2.37.1_amd64.deb\n",
        "!sudo dpkg -i snapd_2.37.1_amd64.deb\n",
        "\n",
        "#https://launchpad.net/~mystic-mirage/+archive/ubuntu/pycharm/+packages\n",
        "\n",
        "!wget https://launchpad.net/~mystic-mirage/+archive/ubuntu/pycharm/+files/pycharm-community_2016.3~mm1_all.deb\n",
        "\n",
        "!sudo dpkg -i pycharm-community_2016.3~mm1_all.deb\n",
        "\n",
        "\n",
        "\n",
        "!curl -s https://packagecloud.io/install/repositories/github/git-lfs/script.deb.sh | sudo bash\n",
        "!sudo apt-get install git-lfs\n",
        "\n",
        "\n"
      ],
      "execution_count": null,
      "outputs": []
    },
    {
      "cell_type": "code",
      "metadata": {
        "id": "antKOYp1Ro_R"
      },
      "source": [
        "\n",
        "!git lfs install\n",
        "!sudo apt --fix-broken install\n",
        "!wget https://dl.google.com/linux/direct/google-chrome-stable_current_amd64.deb\n",
        "!sudo apt install ./google-chrome-stable_current_amd64.deb\n",
        "#https://stackoverflow.com/questions/53358969/stuck-when-installing-phpmyadmin\n",
        "!sudo rm /var/lib/apt/lists/lock\n",
        "!sudo rm /var/cache/apt/archives/lock\n",
        "!sudo rm /var/lib/dpkg/lock"
      ],
      "execution_count": null,
      "outputs": []
    },
    {
      "cell_type": "code",
      "metadata": {
        "id": "j9-_T7aldVgK"
      },
      "source": [
        "!wget https://cbiit-download.nci.nih.gov/nbia/releases/ForTCIA/NBIADataRetriever_3.6/nbia-data-retriever-3.6.deb\n",
        "!sudo -S dpkg -r nbia-data-retriever-3.5.deb;sudo -S dpkg -i nbia-data-retriever-3.6.deb\n"
      ],
      "execution_count": null,
      "outputs": []
    },
    {
      "cell_type": "markdown",
      "metadata": {
        "id": "mYwh4blPVNRk"
      },
      "source": [
        "Download the Panceras Dataset form here:\n",
        "\n",
        "and uplaod it to internet:\n",
        "\n",
        "wget --method PUT --body-file=/tmp/file.tar https://transfer.sh/file.tar -O - -nv\n"
      ]
    }
  ]
}