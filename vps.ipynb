{
  "nbformat": 4,
  "nbformat_minor": 0,
  "metadata": {
    "colab": {
      "name": "vps.ipynb",
      "provenance": [],
      "collapsed_sections": [],
      "authorship_tag": "ABX9TyOoGilV1F8mX3wR9JGCc58K",
      "include_colab_link": true
    },
    "kernelspec": {
      "name": "python3",
      "display_name": "Python 3"
    },
    "accelerator": "GPU",
    "widgets": {
      "application/vnd.jupyter.widget-state+json": {
        "afdb6bad58d1465e9d117e38a1fc1ecc": {
          "model_module": "@jupyter-widgets/controls",
          "model_name": "LabelModel",
          "state": {
            "_view_name": "LabelView",
            "style": "IPY_MODEL_3a2e38f47bc24313b9e94484e93ced64",
            "_dom_classes": [],
            "description": "",
            "_model_name": "LabelModel",
            "placeholder": "​",
            "_view_module": "@jupyter-widgets/controls",
            "_model_module_version": "1.5.0",
            "value": "ssh-import-id: Installed ssh-import-id (amd64)",
            "_view_count": null,
            "_view_module_version": "1.5.0",
            "description_tooltip": null,
            "_model_module": "@jupyter-widgets/controls",
            "layout": "IPY_MODEL_283524fd8a964652837895cc6a7ffa3c"
          }
        },
        "3a2e38f47bc24313b9e94484e93ced64": {
          "model_module": "@jupyter-widgets/controls",
          "model_name": "DescriptionStyleModel",
          "state": {
            "_view_name": "StyleView",
            "_model_name": "DescriptionStyleModel",
            "description_width": "",
            "_view_module": "@jupyter-widgets/base",
            "_model_module_version": "1.5.0",
            "_view_count": null,
            "_view_module_version": "1.2.0",
            "_model_module": "@jupyter-widgets/controls"
          }
        },
        "283524fd8a964652837895cc6a7ffa3c": {
          "model_module": "@jupyter-widgets/base",
          "model_name": "LayoutModel",
          "state": {
            "_view_name": "LayoutView",
            "grid_template_rows": null,
            "right": null,
            "justify_content": null,
            "_view_module": "@jupyter-widgets/base",
            "overflow": null,
            "_model_module_version": "1.2.0",
            "_view_count": null,
            "flex_flow": null,
            "width": null,
            "min_width": null,
            "border": null,
            "align_items": null,
            "bottom": null,
            "_model_module": "@jupyter-widgets/base",
            "top": null,
            "grid_column": null,
            "overflow_y": null,
            "overflow_x": null,
            "grid_auto_flow": null,
            "grid_area": null,
            "grid_template_columns": null,
            "flex": null,
            "_model_name": "LayoutModel",
            "justify_items": null,
            "grid_row": null,
            "max_height": null,
            "align_content": null,
            "visibility": null,
            "align_self": null,
            "height": null,
            "min_height": null,
            "padding": null,
            "grid_auto_rows": null,
            "grid_gap": null,
            "max_width": null,
            "order": null,
            "_view_module_version": "1.2.0",
            "grid_template_areas": null,
            "object_position": null,
            "object_fit": null,
            "grid_auto_columns": null,
            "margin": null,
            "display": null,
            "left": null
          }
        },
        "2fcd0bab24904200aa74cf12675ab55c": {
          "model_module": "@jupyter-widgets/controls",
          "model_name": "FloatProgressModel",
          "state": {
            "_view_name": "ProgressView",
            "style": "IPY_MODEL_51cc37b20c0b49d6b828562df0e42c02",
            "_dom_classes": [],
            "description": "",
            "_model_name": "FloatProgressModel",
            "bar_style": "",
            "max": 1,
            "_view_module": "@jupyter-widgets/controls",
            "_model_module_version": "1.5.0",
            "value": 0.982143,
            "_view_count": null,
            "_view_module_version": "1.5.0",
            "orientation": "horizontal",
            "min": 0,
            "description_tooltip": null,
            "_model_module": "@jupyter-widgets/controls",
            "layout": "IPY_MODEL_8f2d12e055fd470aac1ee775eb50cf68"
          }
        },
        "51cc37b20c0b49d6b828562df0e42c02": {
          "model_module": "@jupyter-widgets/controls",
          "model_name": "ProgressStyleModel",
          "state": {
            "_view_name": "StyleView",
            "_model_name": "ProgressStyleModel",
            "description_width": "",
            "_view_module": "@jupyter-widgets/base",
            "_model_module_version": "1.5.0",
            "_view_count": null,
            "_view_module_version": "1.2.0",
            "bar_color": null,
            "_model_module": "@jupyter-widgets/controls"
          }
        },
        "8f2d12e055fd470aac1ee775eb50cf68": {
          "model_module": "@jupyter-widgets/base",
          "model_name": "LayoutModel",
          "state": {
            "_view_name": "LayoutView",
            "grid_template_rows": null,
            "right": null,
            "justify_content": null,
            "_view_module": "@jupyter-widgets/base",
            "overflow": null,
            "_model_module_version": "1.2.0",
            "_view_count": null,
            "flex_flow": null,
            "width": null,
            "min_width": null,
            "border": "1px solid #118800",
            "align_items": null,
            "bottom": null,
            "_model_module": "@jupyter-widgets/base",
            "top": null,
            "grid_column": null,
            "overflow_y": null,
            "overflow_x": null,
            "grid_auto_flow": null,
            "grid_area": null,
            "grid_template_columns": null,
            "flex": null,
            "_model_name": "LayoutModel",
            "justify_items": null,
            "grid_row": null,
            "max_height": null,
            "align_content": null,
            "visibility": null,
            "align_self": null,
            "height": null,
            "min_height": null,
            "padding": null,
            "grid_auto_rows": null,
            "grid_gap": null,
            "max_width": null,
            "order": null,
            "_view_module_version": "1.2.0",
            "grid_template_areas": null,
            "object_position": null,
            "object_fit": null,
            "grid_auto_columns": null,
            "margin": null,
            "display": null,
            "left": null
          }
        },
        "124a0c74f7a949e7b0eb1a24cb417e60": {
          "model_module": "@jupyter-widgets/controls",
          "model_name": "LabelModel",
          "state": {
            "_view_name": "LabelView",
            "style": "IPY_MODEL_ad48aac2e4fd4c20b661dc39646d4176",
            "_dom_classes": [],
            "description": "",
            "_model_name": "LabelModel",
            "placeholder": "​",
            "_view_module": "@jupyter-widgets/controls",
            "_model_module_version": "1.5.0",
            "value": "dictionaries-common: Installed dictionaries-common (amd64)",
            "_view_count": null,
            "_view_module_version": "1.5.0",
            "description_tooltip": null,
            "_model_module": "@jupyter-widgets/controls",
            "layout": "IPY_MODEL_d2613e7182364a35a42943742ac48d49"
          }
        },
        "ad48aac2e4fd4c20b661dc39646d4176": {
          "model_module": "@jupyter-widgets/controls",
          "model_name": "DescriptionStyleModel",
          "state": {
            "_view_name": "StyleView",
            "_model_name": "DescriptionStyleModel",
            "description_width": "",
            "_view_module": "@jupyter-widgets/base",
            "_model_module_version": "1.5.0",
            "_view_count": null,
            "_view_module_version": "1.2.0",
            "_model_module": "@jupyter-widgets/controls"
          }
        },
        "d2613e7182364a35a42943742ac48d49": {
          "model_module": "@jupyter-widgets/base",
          "model_name": "LayoutModel",
          "state": {
            "_view_name": "LayoutView",
            "grid_template_rows": null,
            "right": null,
            "justify_content": null,
            "_view_module": "@jupyter-widgets/base",
            "overflow": null,
            "_model_module_version": "1.2.0",
            "_view_count": null,
            "flex_flow": null,
            "width": null,
            "min_width": null,
            "border": null,
            "align_items": null,
            "bottom": null,
            "_model_module": "@jupyter-widgets/base",
            "top": null,
            "grid_column": null,
            "overflow_y": null,
            "overflow_x": null,
            "grid_auto_flow": null,
            "grid_area": null,
            "grid_template_columns": null,
            "flex": null,
            "_model_name": "LayoutModel",
            "justify_items": null,
            "grid_row": null,
            "max_height": null,
            "align_content": null,
            "visibility": null,
            "align_self": null,
            "height": null,
            "min_height": null,
            "padding": null,
            "grid_auto_rows": null,
            "grid_gap": null,
            "max_width": null,
            "order": null,
            "_view_module_version": "1.2.0",
            "grid_template_areas": null,
            "object_position": null,
            "object_fit": null,
            "grid_auto_columns": null,
            "margin": null,
            "display": null,
            "left": null
          }
        },
        "b5ff4620eaa84f948f88026b84694155": {
          "model_module": "@jupyter-widgets/controls",
          "model_name": "FloatProgressModel",
          "state": {
            "_view_name": "ProgressView",
            "style": "IPY_MODEL_1a9bdd17b5e0462e8a04df79a4a182d0",
            "_dom_classes": [],
            "description": "",
            "_model_name": "FloatProgressModel",
            "bar_style": "",
            "max": 1,
            "_view_module": "@jupyter-widgets/controls",
            "_model_module_version": "1.5.0",
            "value": 0.999218,
            "_view_count": null,
            "_view_module_version": "1.5.0",
            "orientation": "horizontal",
            "min": 0,
            "description_tooltip": null,
            "_model_module": "@jupyter-widgets/controls",
            "layout": "IPY_MODEL_c0e0ad1f5c3f4c2999992fe4f4af1eeb"
          }
        },
        "1a9bdd17b5e0462e8a04df79a4a182d0": {
          "model_module": "@jupyter-widgets/controls",
          "model_name": "ProgressStyleModel",
          "state": {
            "_view_name": "StyleView",
            "_model_name": "ProgressStyleModel",
            "description_width": "",
            "_view_module": "@jupyter-widgets/base",
            "_model_module_version": "1.5.0",
            "_view_count": null,
            "_view_module_version": "1.2.0",
            "bar_color": null,
            "_model_module": "@jupyter-widgets/controls"
          }
        },
        "c0e0ad1f5c3f4c2999992fe4f4af1eeb": {
          "model_module": "@jupyter-widgets/base",
          "model_name": "LayoutModel",
          "state": {
            "_view_name": "LayoutView",
            "grid_template_rows": null,
            "right": null,
            "justify_content": null,
            "_view_module": "@jupyter-widgets/base",
            "overflow": null,
            "_model_module_version": "1.2.0",
            "_view_count": null,
            "flex_flow": null,
            "width": null,
            "min_width": null,
            "border": "1px solid #118800",
            "align_items": null,
            "bottom": null,
            "_model_module": "@jupyter-widgets/base",
            "top": null,
            "grid_column": null,
            "overflow_y": null,
            "overflow_x": null,
            "grid_auto_flow": null,
            "grid_area": null,
            "grid_template_columns": null,
            "flex": null,
            "_model_name": "LayoutModel",
            "justify_items": null,
            "grid_row": null,
            "max_height": null,
            "align_content": null,
            "visibility": null,
            "align_self": null,
            "height": null,
            "min_height": null,
            "padding": null,
            "grid_auto_rows": null,
            "grid_gap": null,
            "max_width": null,
            "order": null,
            "_view_module_version": "1.2.0",
            "grid_template_areas": null,
            "object_position": null,
            "object_fit": null,
            "grid_auto_columns": null,
            "margin": null,
            "display": null,
            "left": null
          }
        }
      }
    }
  },
  "cells": [
    {
      "cell_type": "markdown",
      "metadata": {
        "id": "view-in-github",
        "colab_type": "text"
      },
      "source": [
        "<a href=\"https://colab.research.google.com/github/So-AI-love/pancreas-seg/blob/master/vps.ipynb\" target=\"_parent\"><img src=\"https://colab.research.google.com/assets/colab-badge.svg\" alt=\"Open In Colab\"/></a>"
      ]
    },
    {
      "cell_type": "code",
      "metadata": {
        "id": "4ifUnVtuQMWm"
      },
      "source": [
        ""
      ],
      "execution_count": null,
      "outputs": []
    },
    {
      "cell_type": "code",
      "metadata": {
        "id": "wkklYhFELMat",
        "outputId": "669b1842-a775-4fba-fec6-457e72e67685",
        "colab": {
          "base_uri": "https://localhost:8080/",
          "height": 1000,
          "referenced_widgets": [
            "afdb6bad58d1465e9d117e38a1fc1ecc",
            "3a2e38f47bc24313b9e94484e93ced64",
            "283524fd8a964652837895cc6a7ffa3c",
            "2fcd0bab24904200aa74cf12675ab55c",
            "51cc37b20c0b49d6b828562df0e42c02",
            "8f2d12e055fd470aac1ee775eb50cf68",
            "124a0c74f7a949e7b0eb1a24cb417e60",
            "ad48aac2e4fd4c20b661dc39646d4176",
            "d2613e7182364a35a42943742ac48d49",
            "b5ff4620eaa84f948f88026b84694155",
            "1a9bdd17b5e0462e8a04df79a4a182d0",
            "c0e0ad1f5c3f4c2999992fe4f4af1eeb"
          ]
        }
      },
      "source": [
        "!pip install git+https://github.com/demotomohiro/remocolab.git\n",
        "import remocolab\n",
        "remocolab.setupVNC()"
      ],
      "execution_count": 1,
      "outputs": [
        {
          "output_type": "stream",
          "text": [
            "Collecting git+https://github.com/demotomohiro/remocolab.git\n",
            "  Cloning https://github.com/demotomohiro/remocolab.git to /tmp/pip-req-build-qne3jdtg\n",
            "  Running command git clone -q https://github.com/demotomohiro/remocolab.git /tmp/pip-req-build-qne3jdtg\n",
            "Collecting pyngrok\n",
            "  Downloading https://files.pythonhosted.org/packages/87/93/09a09c5034fcef7cc956107a36beb4ba47924afeb70bea3626a3a4b76b77/pyngrok-4.1.13.tar.gz\n",
            "Requirement already satisfied: future in /usr/local/lib/python3.6/dist-packages (from pyngrok->remocolab.py==0.1) (0.16.0)\n",
            "Requirement already satisfied: PyYAML in /usr/local/lib/python3.6/dist-packages (from pyngrok->remocolab.py==0.1) (3.13)\n",
            "Building wheels for collected packages: remocolab.py, pyngrok\n",
            "  Building wheel for remocolab.py (setup.py) ... \u001b[?25l\u001b[?25hdone\n",
            "  Created wheel for remocolab.py: filename=remocolab.py-0.1-cp36-none-any.whl size=6769 sha256=e79cd5f977b42535cd162235dc6980ab2b4c8d74df8534dacdf4a67ceb559234\n",
            "  Stored in directory: /tmp/pip-ephem-wheel-cache-ro7ba8su/wheels/9e/c3/02/22e12a4614e679c5555718bd4d0356e4b7cc1d69a1f3ddb564\n",
            "  Building wheel for pyngrok (setup.py) ... \u001b[?25l\u001b[?25hdone\n",
            "  Created wheel for pyngrok: filename=pyngrok-4.1.13-cp36-none-any.whl size=17053 sha256=a6f23e13535d572cea91b8d1d19de28655c20c209222ed64f504577b6e86d604\n",
            "  Stored in directory: /root/.cache/pip/wheels/96/02/88/faeae1a755924349309500c9a1d40d5d67df3dc4b4e0d2f5bd\n",
            "Successfully built remocolab.py pyngrok\n",
            "Installing collected packages: pyngrok, remocolab.py\n",
            "Successfully installed pyngrok-4.1.13 remocolab.py-0.1\n",
            "Warning! GPU of your assigned virtual machine is Tesla K80.\n",
            "You might get better GPU by reseting the runtime.\n",
            "Do you want to continue? [y/n] y\n",
            "---\n",
            "Copy&paste your tunnel authtoken from https://dashboard.ngrok.com/auth\n",
            "(You need to sign up for ngrok and login,)\n",
            "··········\n",
            "Select your ngrok region:\n",
            "us - United States (Ohio)\n",
            "eu - Europe (Frankfurt)\n",
            "ap - Asia/Pacific (Singapore)\n",
            "au - Australia (Sydney)\n",
            "sa - South America (Sao Paulo)\n",
            "jp - Japan (Tokyo)\n",
            "in - India (Mumbai)\n",
            "in\n"
          ],
          "name": "stdout"
        },
        {
          "output_type": "display_data",
          "data": {
            "application/vnd.jupyter.widget-view+json": {
              "model_id": "afdb6bad58d1465e9d117e38a1fc1ecc",
              "version_minor": 0,
              "version_major": 2
            },
            "text/plain": [
              "Label(value='')"
            ]
          },
          "metadata": {
            "tags": []
          }
        },
        {
          "output_type": "display_data",
          "data": {
            "application/vnd.jupyter.widget-view+json": {
              "model_id": "2fcd0bab24904200aa74cf12675ab55c",
              "version_minor": 0,
              "version_major": 2
            },
            "text/plain": [
              "FloatProgress(value=0.0, layout=Layout(border='1px solid #118800'), max=1.0)"
            ]
          },
          "metadata": {
            "tags": []
          }
        },
        {
          "output_type": "stream",
          "text": [
            "Install openssh-server\n"
          ],
          "name": "stdout"
        },
        {
          "output_type": "display_data",
          "data": {
            "application/vnd.jupyter.widget-view+json": {
              "model_id": "124a0c74f7a949e7b0eb1a24cb417e60",
              "version_minor": 0,
              "version_major": 2
            },
            "text/plain": [
              "Label(value='')"
            ]
          },
          "metadata": {
            "tags": []
          }
        },
        {
          "output_type": "display_data",
          "data": {
            "application/vnd.jupyter.widget-view+json": {
              "model_id": "b5ff4620eaa84f948f88026b84694155",
              "version_minor": 0,
              "version_major": 2
            },
            "text/plain": [
              "FloatProgress(value=0.0, layout=Layout(border='1px solid #118800'), max=1.0)"
            ]
          },
          "metadata": {
            "tags": []
          }
        },
        {
          "output_type": "stream",
          "text": [
            "Install xfce4\n",
            "Install xfce4-terminal\n",
            "ECDSA key fingerprint of host:\n",
            "256 SHA256:f0X7URt092zcw525qL6xCNAFrvIsMzk6iUiR76rD2hk root@fb79a0ba74fa (ECDSA)\n",
            "+---[ECDSA 256]---+\n",
            "|       .       .o|\n",
            "|      . .     ooO|\n",
            "|  .    . .    .*O|\n",
            "| o    o .    ..o*|\n",
            "|  o. o .S    .o+ |\n",
            "| . .= .  .  .. ..|\n",
            "|= E* o .  .o.   .|\n",
            "|+=.+=   . o.o    |\n",
            "|=+=      . +.    |\n",
            "+----[SHA256]-----+\n",
            "\n",
            "✂️✂️✂️✂️✂️✂️✂️✂️✂️✂️✂️✂️✂️✂️✂️✂️✂️✂️✂️✂️✂️✂️✂️✂️\n",
            "root password: CnHjGOeV2-8SHcqvcp8nDI4sCBxXUl_JdL0Vk_FGV8g\n",
            "colab password: 2kMsv9cJaSntbwYbBE54vXM7nhhLQ98YcpEndkATgAQ\n",
            "✂️✂️✂️✂️✂️✂️✂️✂️✂️✂️✂️✂️✂️✂️✂️✂️✂️✂️✂️✂️✂️✂️✂️✂️\n",
            "---\n",
            "Execute following command on your local machine and login before running TurboVNC viewer:\n",
            "✂️✂️✂️✂️✂️✂️✂️✂️✂️✂️✂️✂️✂️✂️✂️✂️✂️✂️✂️✂️✂️✂️✂️✂️\n",
            "ssh -o UserKnownHostsFile=/dev/null -o VisualHostKey=yes -p 19216 -L 5901:localhost:5901 colab@0.tcp.in.ngrok.io\n",
            "✂️✂️✂️✂️✂️✂️✂️✂️✂️✂️✂️✂️✂️✂️✂️✂️✂️✂️✂️✂️✂️✂️✂️✂️\n",
            "VNC password: WSUj1jOe\n",
            "VNC view only password: dyqW_XdE\n",
            "✂️✂️✂️✂️✂️✂️✂️✂️✂️✂️✂️✂️✂️✂️✂️✂️✂️✂️✂️✂️✂️✂️✂️✂️\n",
            "\n"
          ],
          "name": "stdout"
        }
      ]
    },
    {
      "cell_type": "code",
      "metadata": {
        "id": "qYE7WQzCQNnd",
        "outputId": "87f1a2be-13a4-4137-e37d-ed1948f88c2d",
        "colab": {
          "base_uri": "https://localhost:8080/",
          "height": 1000
        }
      },
      "source": [
        "#https://askubuntu.com/questions/981118/correct-way-to-install-python-2-7-on-ubuntu-17-10\n",
        "!sudo apt --fix-broken install\n",
        "# refreshing the repositories\n",
        "!sudo apt update\n",
        "# its wise to keep the system up to date!\n",
        "# you can skip the following line if you not\n",
        "# want to update all your software\n",
        "!sudo apt upgrade\n",
        "# installing python 2.7 and pip for it\n",
        "\n",
        "\n",
        "!sudo apt install python2.7 python-pip\n",
        "\n",
        "!sudo pip uninstall grpcio -y &&sudo pip install grpcio==1.24.3 \n",
        "\n",
        "!sudo pip uninstall tensorflow -y &&sudo pip install tensorflow==1.13.1\n",
        "\n",
        "!sudo pip uninstall tensorboard -y &&sudo pip install tensorboard===1.13.0\n",
        "\n",
        "!sudo pip uninstall tensorflow-estimator -y &&sudo pip install tensorflow-estimator==1.13.0\n",
        "\n",
        " \n",
        "\n",
        "\n",
        "\n",
        "#sudo pip install --upgrade tensorflow\n",
        "\n",
        "!sudo pip install  tensorflow-gpu==1.13.1\n",
        "\n",
        "!sudo pip install fancyimpute==0.4.3\n",
        "\n",
        "!sudo pip install keras==2.0.8\n",
        "\n",
        "\n",
        "!sudo pip install numpy==1.13.1\n",
        "\n",
        "!sudo pip install pandas==0.20.3\n",
        "\n",
        "!sudo pip install matplotlib\n",
        "\n",
        "\n",
        "!sudo pip install dicom\n",
        "\n",
        "\n",
        "#install 7zip gui\n",
        "!sudo apt-get install gdebi\n",
        "\n",
        "!wget -c launchpadlibrarian.net/70575443/libgmp3c2_4.3.2%2Bdfsg-2ubuntu1_i386.deb\n",
        "\n",
        "!wget http://optimate.dl.sourceforge.net/project/peazip/5.4.1/peazip_5.4.1.LINUX.GTK2-2_i386.deb\n",
        "\n",
        "!sudo gdebi libgmp3c2_4.3.2+dfsg-2ubuntu1_i386.deb\n",
        "\n",
        "!sudo gdebi peazip_5.4.1.LINUX.GTK2-2_i386.deb\n",
        "\n",
        "\n",
        "!sudo apt-get update &&sudo apt-get install openjdk-7-jre --no-install-recommends\n",
        "\n",
        "!wget https://launchpad.net/ubuntu/+archive/primary/+files/snapd_2.37.1_amd64.deb\n",
        "!sudo dpkg -i snapd_2.37.1_amd64.deb\n",
        "\n",
        "#https://launchpad.net/~mystic-mirage/+archive/ubuntu/pycharm/+packages\n",
        "\n",
        "!wget https://launchpad.net/~mystic-mirage/+archive/ubuntu/pycharm/+files/pycharm-community_2016.3~mm1_all.deb\n",
        "\n",
        "!sudo dpkg -i pycharm-community_2016.3~mm1_all.deb\n",
        "\n",
        "\n",
        "\n",
        "!curl -s https://packagecloud.io/install/repositories/github/git-lfs/script.deb.sh | sudo bash\n",
        "!sudo apt-get install git-lfs\n",
        "\n",
        "\n"
      ],
      "execution_count": null,
      "outputs": [
        {
          "output_type": "stream",
          "text": [
            "Reading package lists... Done\n",
            "Building dependency tree       \n",
            "Reading state information... Done\n",
            "Correcting dependencies... Done\n",
            "The following packages were automatically installed and are no longer required:\n",
            "  cuda-command-line-tools-10-0 cuda-compiler-10-0 cuda-cuobjdump-10-0\n",
            "  cuda-cupti-10-0 cuda-documentation-10-0 cuda-documentation-10-1\n",
            "  cuda-gdb-10-0 cuda-gpu-library-advisor-10-0 cuda-libraries-10-0\n",
            "  cuda-memcheck-10-0 cuda-nsight-10-0 cuda-nsight-10-1\n",
            "  cuda-nsight-compute-10-0 cuda-nsight-compute-10-1 cuda-nsight-systems-10-1\n",
            "  cuda-nvcc-10-0 cuda-nvdisasm-10-0 cuda-nvml-dev-10-0 cuda-nvprof-10-0\n",
            "  cuda-nvprune-10-0 cuda-nvtx-10-0 cuda-nvvp-10-0 cuda-nvvp-10-1\n",
            "  cuda-samples-10-0 cuda-samples-10-1 cuda-toolkit-10-0 cuda-toolkit-10-1\n",
            "  cuda-tools-10-0 cuda-tools-10-1 cuda-visual-tools-10-0\n",
            "  cuda-visual-tools-10-1 default-jre dkms freeglut3 freeglut3-dev libjansson4\n",
            "  libnvidia-decode-455 libnvidia-encode-455 libnvidia-extra-455\n",
            "  libnvidia-fbc1-455 libnvidia-ifr1-455 libxi-dev libxmu-dev libxmu-headers\n",
            "  libxnvctrl0 nsight-compute-2020.2.0 nsight-systems-2020.3.4\n",
            "  nvidia-compute-utils-455 nvidia-modprobe nvidia-settings nvidia-utils-455\n",
            "  openjdk-11-jre policykit-1-gnome python3-xkit screen-resolution-extra\n",
            "  xserver-xorg-video-nvidia-455\n",
            "Use 'sudo apt autoremove' to remove them.\n",
            "The following additional packages will be installed:\n",
            "  squashfs-tools\n",
            "The following NEW packages will be installed:\n",
            "  squashfs-tools\n",
            "0 upgraded, 1 newly installed, 0 to remove and 7 not upgraded.\n",
            "1 not fully installed or removed.\n",
            "Need to get 110 kB of archives.\n",
            "After this operation, 312 kB of additional disk space will be used.\n",
            "Get:1 http://archive.ubuntu.com/ubuntu bionic-updates/main amd64 squashfs-tools amd64 1:4.3-6ubuntu0.18.04.1 [110 kB]\n",
            "Fetched 110 kB in 0s (1,343 kB/s)\n",
            "dpkg-preconfigure: unable to re-open stdin: No such file or directory\n",
            "Selecting previously unselected package squashfs-tools.\n",
            "(Reading database ... 188823 files and directories currently installed.)\n",
            "Preparing to unpack .../squashfs-tools_1%3a4.3-6ubuntu0.18.04.1_amd64.deb ...\n",
            "Unpacking squashfs-tools (1:4.3-6ubuntu0.18.04.1) ...\n",
            "Setting up squashfs-tools (1:4.3-6ubuntu0.18.04.1) ...\n",
            "Setting up snapd (2.37.1) ...\n",
            "Created symlink /etc/systemd/system/multi-user.target.wants/snapd.autoimport.service → /lib/systemd/system/snapd.autoimport.service.\n",
            "Created symlink /etc/systemd/system/multi-user.target.wants/snapd.core-fixup.service → /lib/systemd/system/snapd.core-fixup.service.\n",
            "Created symlink /etc/systemd/system/multi-user.target.wants/snapd.seeded.service → /lib/systemd/system/snapd.seeded.service.\n",
            "Created symlink /etc/systemd/system/cloud-final.service.wants/snapd.seeded.service → /lib/systemd/system/snapd.seeded.service.\n",
            "Created symlink /etc/systemd/system/multi-user.target.wants/snapd.service → /lib/systemd/system/snapd.service.\n",
            "Created symlink /etc/systemd/system/timers.target.wants/snapd.snap-repair.timer → /lib/systemd/system/snapd.snap-repair.timer.\n",
            "Created symlink /etc/systemd/system/sockets.target.wants/snapd.socket → /lib/systemd/system/snapd.socket.\n",
            "Created symlink /etc/systemd/system/final.target.wants/snapd.system-shutdown.service → /lib/systemd/system/snapd.system-shutdown.service.\n",
            "Processing triggers for man-db (2.8.3-2ubuntu0.1) ...\n",
            "Hit:1 http://archive.ubuntu.com/ubuntu bionic InRelease\n",
            "Hit:2 http://archive.ubuntu.com/ubuntu bionic-updates InRelease\n",
            "Hit:3 http://archive.ubuntu.com/ubuntu bionic-backports InRelease\n",
            "Hit:4 http://ppa.launchpad.net/c2d4u.team/c2d4u4.0+/ubuntu bionic InRelease\n",
            "Hit:5 http://ppa.launchpad.net/graphics-drivers/ppa/ubuntu bionic InRelease\n",
            "Hit:6 http://security.ubuntu.com/ubuntu bionic-security InRelease\n",
            "Ign:7 https://developer.download.nvidia.com/compute/cuda/repos/ubuntu1804/x86_64  InRelease\n",
            "Hit:8 https://cloud.r-project.org/bin/linux/ubuntu bionic-cran40/ InRelease\n",
            "Ign:9 https://developer.download.nvidia.com/compute/machine-learning/repos/ubuntu1804/x86_64  InRelease\n",
            "Hit:10 https://developer.download.nvidia.com/compute/cuda/repos/ubuntu1804/x86_64  Release\n",
            "Hit:11 https://developer.download.nvidia.com/compute/machine-learning/repos/ubuntu1804/x86_64  Release\n",
            "Hit:12 https://packagecloud.io/github/git-lfs/ubuntu bionic InRelease\n",
            "Reading package lists... Done\n",
            "Building dependency tree       \n",
            "Reading state information... Done\n",
            "7 packages can be upgraded. Run 'apt list --upgradable' to see them.\n",
            "Reading package lists... Done\n",
            "Building dependency tree       \n",
            "Reading state information... Done\n",
            "Calculating upgrade... Done\n",
            "The following packages were automatically installed and are no longer required:\n",
            "  cuda-command-line-tools-10-0 cuda-compiler-10-0 cuda-cuobjdump-10-0\n",
            "  cuda-cupti-10-0 cuda-documentation-10-0 cuda-documentation-10-1\n",
            "  cuda-gdb-10-0 cuda-gpu-library-advisor-10-0 cuda-libraries-10-0\n",
            "  cuda-memcheck-10-0 cuda-nsight-10-0 cuda-nsight-10-1\n",
            "  cuda-nsight-compute-10-0 cuda-nsight-compute-10-1 cuda-nsight-systems-10-1\n",
            "  cuda-nvcc-10-0 cuda-nvdisasm-10-0 cuda-nvml-dev-10-0 cuda-nvprof-10-0\n",
            "  cuda-nvprune-10-0 cuda-nvtx-10-0 cuda-nvvp-10-0 cuda-nvvp-10-1\n",
            "  cuda-samples-10-0 cuda-samples-10-1 cuda-toolkit-10-0 cuda-toolkit-10-1\n",
            "  cuda-tools-10-0 cuda-tools-10-1 cuda-visual-tools-10-0\n",
            "  cuda-visual-tools-10-1 default-jre dkms freeglut3 freeglut3-dev libjansson4\n",
            "  libnvidia-decode-455 libnvidia-encode-455 libnvidia-extra-455\n",
            "  libnvidia-fbc1-455 libnvidia-ifr1-455 libxi-dev libxmu-dev libxmu-headers\n",
            "  libxnvctrl0 nsight-compute-2020.2.0 nsight-systems-2020.3.4\n",
            "  nvidia-compute-utils-455 nvidia-modprobe nvidia-settings nvidia-utils-455\n",
            "  openjdk-11-jre policykit-1-gnome python3-xkit screen-resolution-extra\n",
            "  xserver-xorg-video-nvidia-455\n",
            "Use 'sudo apt autoremove' to remove them.\n",
            "The following packages have been kept back:\n",
            "  libcublas-dev libcublas10 libcudnn7 libcudnn7-dev libnccl-dev libnccl2\n",
            "The following packages will be upgraded:\n",
            "  snapd\n",
            "1 upgraded, 0 newly installed, 0 to remove and 6 not upgraded.\n",
            "Need to get 20.1 MB of archives.\n",
            "After this operation, 4,628 kB of additional disk space will be used.\n",
            "Get:1 http://archive.ubuntu.com/ubuntu bionic-updates/main amd64 snapd amd64 2.46.1+18.04 [20.1 MB]\n",
            "Fetched 20.1 MB in 0s (47.2 MB/s)\n",
            "dpkg-preconfigure: unable to re-open stdin: No such file or directory\n",
            "(Reading database ... 188830 files and directories currently installed.)\n",
            "Preparing to unpack .../snapd_2.46.1+18.04_amd64.deb ...\n",
            "Unpacking snapd (2.46.1+18.04) over (2.37.1) ...\n",
            "Setting up snapd (2.46.1+18.04) ...\n",
            "Installing new version of config file /etc/apparmor.d/usr.lib.snapd.snap-confine.real ...\n",
            "Installing new version of config file /etc/profile.d/apps-bin-path.sh ...\n",
            "Installing new version of config file /etc/xdg/autostart/snap-userd-autostart.desktop ...\n",
            "Created symlink /etc/systemd/system/multi-user.target.wants/snapd.apparmor.service → /lib/systemd/system/snapd.apparmor.service.\n",
            "Created symlink /etc/systemd/system/multi-user.target.wants/snapd.recovery-chooser-trigger.service → /lib/systemd/system/snapd.recovery-chooser-trigger.service.\n",
            "Processing triggers for dbus (1.12.2-1ubuntu1.2) ...\n",
            "Processing triggers for mime-support (3.60ubuntu1) ...\n",
            "Processing triggers for desktop-file-utils (0.23-1ubuntu3.18.04.2) ...\n",
            "Processing triggers for man-db (2.8.3-2ubuntu0.1) ...\n",
            "Reading package lists... Done\n",
            "Building dependency tree       \n",
            "Reading state information... Done\n",
            "python2.7 is already the newest version (2.7.17-1~18.04ubuntu1.1).\n",
            "python-pip is already the newest version (9.0.1-2.3~ubuntu1.18.04.2).\n",
            "The following packages were automatically installed and are no longer required:\n",
            "  cuda-command-line-tools-10-0 cuda-compiler-10-0 cuda-cuobjdump-10-0\n",
            "  cuda-cupti-10-0 cuda-documentation-10-0 cuda-documentation-10-1\n",
            "  cuda-gdb-10-0 cuda-gpu-library-advisor-10-0 cuda-libraries-10-0\n",
            "  cuda-memcheck-10-0 cuda-nsight-10-0 cuda-nsight-10-1\n",
            "  cuda-nsight-compute-10-0 cuda-nsight-compute-10-1 cuda-nsight-systems-10-1\n",
            "  cuda-nvcc-10-0 cuda-nvdisasm-10-0 cuda-nvml-dev-10-0 cuda-nvprof-10-0\n",
            "  cuda-nvprune-10-0 cuda-nvtx-10-0 cuda-nvvp-10-0 cuda-nvvp-10-1\n",
            "  cuda-samples-10-0 cuda-samples-10-1 cuda-toolkit-10-0 cuda-toolkit-10-1\n",
            "  cuda-tools-10-0 cuda-tools-10-1 cuda-visual-tools-10-0\n",
            "  cuda-visual-tools-10-1 default-jre dkms freeglut3 freeglut3-dev libjansson4\n",
            "  libnvidia-decode-455 libnvidia-encode-455 libnvidia-extra-455\n",
            "  libnvidia-fbc1-455 libnvidia-ifr1-455 libxi-dev libxmu-dev libxmu-headers\n",
            "  libxnvctrl0 nsight-compute-2020.2.0 nsight-systems-2020.3.4\n",
            "  nvidia-compute-utils-455 nvidia-modprobe nvidia-settings nvidia-utils-455\n",
            "  openjdk-11-jre policykit-1-gnome python3-xkit screen-resolution-extra\n",
            "  xserver-xorg-video-nvidia-455\n",
            "Use 'sudo apt autoremove' to remove them.\n",
            "0 upgraded, 0 newly installed, 0 to remove and 6 not upgraded.\n",
            "Uninstalling grpcio-1.24.3:\n",
            "  Successfully uninstalled grpcio-1.24.3\n",
            "Collecting grpcio==1.24.3\n",
            "  Using cached https://files.pythonhosted.org/packages/30/54/c9810421e41ec0bca2228c6f06b1b1189b196b69533cbcac9f71b44727f8/grpcio-1.24.3-cp36-cp36m-manylinux2010_x86_64.whl\n",
            "Requirement already satisfied: six>=1.5.2 in /usr/local/lib/python3.6/dist-packages (from grpcio==1.24.3) (1.15.0)\n",
            "\u001b[31mERROR: tensorflow 1.13.1 has requirement numpy>=1.13.3, but you'll have numpy 1.13.1 which is incompatible.\u001b[0m\n",
            "\u001b[31mERROR: tensorflow-gpu 1.13.1 has requirement numpy>=1.13.3, but you'll have numpy 1.13.1 which is incompatible.\u001b[0m\n",
            "Installing collected packages: grpcio\n",
            "Successfully installed grpcio-1.24.3\n",
            "Uninstalling tensorflow-1.13.1:\n",
            "  Successfully uninstalled tensorflow-1.13.1\n"
          ],
          "name": "stdout"
        }
      ]
    },
    {
      "cell_type": "code",
      "metadata": {
        "id": "antKOYp1Ro_R"
      },
      "source": [
        "\n",
        "!git lfs install\n",
        "!sudo apt --fix-broken install\n",
        "!wget https://dl.google.com/linux/direct/google-chrome-stable_current_amd64.deb\n",
        "!sudo apt install ./google-chrome-stable_current_amd64.deb\n",
        "#https://stackoverflow.com/questions/53358969/stuck-when-installing-phpmyadmin\n",
        "!sudo rm /var/lib/apt/lists/lock\n",
        "!sudo rm /var/cache/apt/archives/lock\n",
        "!sudo rm /var/lib/dpkg/lock"
      ],
      "execution_count": null,
      "outputs": []
    },
    {
      "cell_type": "code",
      "metadata": {
        "id": "j9-_T7aldVgK"
      },
      "source": [
        "!wget https://cbiit-download.nci.nih.gov/nbia/releases/ForTCIA/NBIADataRetriever_3.6/nbia-data-retriever-3.6.deb\n",
        "!sudo -S dpkg -r \"nbia-data-retriever-3.5.deb\"\n",
        "!sudo -S dpkg -i \"nbia-data-retriever-3.6.deb\"\n"
      ],
      "execution_count": null,
      "outputs": []
    },
    {
      "cell_type": "markdown",
      "metadata": {
        "id": "mYwh4blPVNRk"
      },
      "source": [
        "Download the Panceras Dataset form here:\n",
        "\n",
        "and uplaod it to internet:\n",
        "\n",
        "wget --method PUT --body-file=/tmp/file.tar https://transfer.sh/file.tar -O - -nv\n"
      ]
    }
  ]
}